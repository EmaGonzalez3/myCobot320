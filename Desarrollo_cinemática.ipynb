{
 "cells": [
  {
   "cell_type": "code",
   "execution_count": 5,
   "metadata": {},
   "outputs": [],
   "source": [
    "import numpy as np\n",
    "import roboticstoolbox as rtb\n",
    "from roboticstoolbox import DHRobot\n",
    "import spatialmath as sm"
   ]
  },
  {
   "cell_type": "code",
   "execution_count": 6,
   "metadata": {},
   "outputs": [],
   "source": [
    "# Extiendo la clase DHRobot para que incluya el generador de trayectorias joint y cartesiano\n",
    "class DHRobotGT(DHRobot):\n",
    "    # Defino algunas variables de la clase, que tienen sentido cuando se generan trayectorias\n",
    "    t_ref=[]; q_ref=[]; qd_ref=[]; qdd_ref=[]; tau=[];\n",
    "\n",
    "    def get_control_reference(self,t):\n",
    "        if len(self.t_ref) == 0:\n",
    "            raise ValueError(\"No hay trayectorias deseadas definidas\")\n",
    "\n",
    "        # busca el índice dentro del vector\n",
    "        k = np.searchsorted(self.t_ref, t, side='right') - 1\n",
    "\n",
    "        # Dejo al índice dentro del rango\n",
    "        if k < 0:\n",
    "            k = 0\n",
    "        elif k >= len(self.t_ref):\n",
    "            k = len(self.t_ref) - 1\n",
    "\n",
    "        return self.t_ref[k],self.q_ref[k],self.qd_ref[k],self.qdd_ref[k]\n",
    "\n",
    "    def __init__(self, *args, tacc=0.1, Ts=1E-3,vmax=np.array([2*np.pi,2*np.pi]), **kwargs):\n",
    "        super().__init__(*args, **kwargs)\n",
    "        self.tacc = tacc\n",
    "        self.Ts = Ts\n",
    "        self.vmax = vmax\n",
    "\n",
    "    def interpoladorTrapezoidal(self,A,B,C,Tj):\n",
    "        \"\"\"\n",
    "        Interpolador trapezoidal en zona 1 y 2\n",
    "\n",
    "        Args\n",
    "        ----\n",
    "          A: punto en el que estoy\n",
    "          B: punto al que estaba yendo en el segmento anterior\n",
    "          C: punto al que voy\n",
    "          Tj: tiempo en que se realiza el movimiento\n",
    "\n",
    "        Returns\n",
    "        --------\n",
    "          q_aux: vector interpolado de posiciones\n",
    "          qd_aux: vector interpolado de velocidades\n",
    "          qdd_aux: vector interpolado de aceleraciones\n",
    "        \"\"\"\n",
    "        DA = A-B\n",
    "        DC = C-B\n",
    "\n",
    "        # Zona 1\n",
    "        # Generar el vector tseg para Zona 1\n",
    "        tseg = np.arange(-self.tacc + self.Ts, self.tacc + self.Ts, self.Ts)\n",
    "\n",
    "        # Calculo las referencias para zona 1\n",
    "        qdd_aux = np.outer((DC/Tj+DA/self.tacc)/(2*self.tacc),np.ones(len(tseg)))\n",
    "        qd_aux = (DC / Tj)[:, np.newaxis] * (tseg + self.tacc) / (2 * self.tacc) + (DA / self.tacc)[:, np.newaxis] * (tseg - self.tacc) / (2 * self.tacc)\n",
    "        q_aux = (DC / Tj)[:, np.newaxis] * (tseg + self.tacc)**2 / (4 * self.tacc) + (DA / self.tacc)[:, np.newaxis] * (tseg - self.tacc)**2 / (4 * self.tacc) + np.outer(B,np.ones(len(tseg)))\n",
    "\n",
    "        # Zona 2\n",
    "        # Generar el vector tseg para Zona 2\n",
    "        tseg = np.arange(self.tacc + self.Ts, Tj - self.tacc + 0.5* self.Ts , self.Ts)\n",
    "\n",
    "        # Inicializar las matrices theta2p, thetap y theta\n",
    "        qdd_aux = np.hstack([qdd_aux,np.zeros((len(B), len(tseg)))])   # Suponiendo que B es un vector\n",
    "        qd_aux = np.hstack([qd_aux,np.outer(DC / Tj, np.ones(len(tseg)))])\n",
    "        q_aux = np.hstack([q_aux,np.outer(DC / Tj, tseg) +  np.outer(B,np.ones(len(tseg)))])\n",
    "        return q_aux,qd_aux,qdd_aux\n",
    "\n",
    "    def genTrJoint(self, q_dest,Td):\n",
    "        \"\"\"\n",
    "        Genera la trayectoria joint para un conjunto de puntos de paso\n",
    "\n",
    "        Args\n",
    "        -----\n",
    "          q_dest: Matriz con los puntos de paso. Cada fila corresponde a un punto\n",
    "          Td: tiempos deseados de cada movimiento\n",
    "\n",
    "        Returns\n",
    "        -------\n",
    "          t: Vector de tiempo de referencia\n",
    "          q: Vector de posiciones articulares de referencia\n",
    "          qd: Vector de velocidades articulares de referencia\n",
    "          qdd: Vector de aceleraciones articulares de referencia\n",
    "          POSES: Vector de posiciones cartesianas de referencia\n",
    "        \"\"\"\n",
    "        q = np.empty((self.nlinks,0)); qd = np.empty((self.nlinks,0)); qdd = np.empty((self.nlinks,0))\n",
    "        A = q_dest[0,:];\n",
    "        for i in range(len(q_dest)):\n",
    "          B = q_dest[i,:]\n",
    "          if i<len(q_dest)-1:\n",
    "            C = q_dest[i+1,:]\n",
    "          else:\n",
    "            C = B\n",
    "            Td[i] = 0\n",
    "          Tj = np.max((np.max(np.abs(C-B)/self.vmax),Td[i],2*self.tacc))\n",
    "          q_aux,qd_aux,qdd_aux = self.interpoladorTrapezoidal(A,B,C,Tj)\n",
    "          q = np.hstack([q,q_aux]); qd = np.hstack([qd,qd_aux]); qdd = np.hstack([qdd,qdd_aux]);\n",
    "          A = q[:,-1]\n",
    "        t = np.linspace(0, q.shape[1],num=q.shape[1])*self.Ts\n",
    "\n",
    "        # Calculo la trayectoria cartesiana deseada\n",
    "        POSES = self.fkine(q.transpose()) # .extend([self.fkine(q[:,i]) for i in range(q.shape[1])])\n",
    "        self.t_ref = t; self.q_ref=q.T; self.qd_ref=qd.T; self.qdd_ref=qdd.T\n",
    "        self.tau = np.zeros_like(self.q_ref)\n",
    "        return self.t_ref, self.q_ref, self.qd_ref, self.qdd_ref\n",
    "\n",
    "    def genTrCart(self,POSE_dest,Td):\n",
    "        \"\"\"\n",
    "        Genera la trayectoria cartesiana para un conjunto de puntos de paso\n",
    "\n",
    "        Args\n",
    "        ----\n",
    "          POSE_dest: Lista con las POSES de paso\n",
    "          Td: tiempos deseados de cada movimiento\n",
    "\n",
    "        Returns\n",
    "        -------\n",
    "          t: Vector de tiempo de referencia\n",
    "          q: Vector de posiciones articulares de referencia\n",
    "          qd: Vector de velocidades articulares de referencia\n",
    "          qdd: Vector de aceleraciones articulares de referencia\n",
    "          POSES: Vector de posiciones cartesianas de referencia\n",
    "        \"\"\"\n",
    "\n",
    "        POSEA = POSE_dest[0]\n",
    "        POSES = []\n",
    "        for i in range(len(POSE_dest)):\n",
    "          POSEB = POSE_dest[i]\n",
    "          if i<len(POSE_dest)-1:\n",
    "            POSEC = POSE_dest[i+1]\n",
    "          else:\n",
    "            POSEC = POSEB\n",
    "            Td[i] = 0\n",
    "          A = np.concatenate((POSEA.t,POSEA.eulervec()))\n",
    "          B = np.concatenate((POSEB.t,POSEB.eulervec()))\n",
    "          C = np.concatenate((POSEC.t,POSEC.eulervec()))\n",
    "          Tj = np.max([Td[i],2*self.tacc])\n",
    "\n",
    "          pos,_,_ = self.interpoladorTrapezoidal(A,B,C,Tj)\n",
    "          POSES.extend([sm.SE3(pos[0:3,j])*sm.SE3.EulerVec(pos[3:,i]) for j in range(pos.shape[1])])\n",
    "\n",
    "          POSEA = POSES[-1]\n",
    "\n",
    "        q = np.zeros((len(POSES),self.nlinks))\n",
    "        for i in range(len(POSES)):\n",
    "          q[i,:],_ = self.ikine_a(POSES[i])\n",
    "\n",
    "        # Obtengo la velocidad articular derivando numéricamente\n",
    "        qd = np.diff(q, axis=0) / self.Ts\n",
    "        # Ajustar la longitud de qd para que coincida con q\n",
    "        qd = np.vstack([qd, np.zeros(self.nlinks,)])\n",
    "\n",
    "        # Obtengo la aceleración articular derivando numéricamente\n",
    "        qdd = np.diff(qd, axis=0) / self.Ts\n",
    "        # Ajustar la longitud de qdd para que coincida con qd\n",
    "        qdd = np.vstack([qdd, np.zeros(self.nlinks,)])\n",
    "\n",
    "        t = np.linspace(0, len(q),num=len(q))*self.Ts\n",
    "        self.t_ref = t; self.q_ref=q; self.qd_ref=qd; self.qdd_ref=qdd\n",
    "        self.tau = np.zeros_like(self.q_ref)\n",
    "        return self.t_ref, self.q_ref, self.qd_ref, self.qdd_ref"
   ]
  },
  {
   "cell_type": "code",
   "execution_count": 7,
   "metadata": {},
   "outputs": [],
   "source": [
    "class myCobot320(DHRobotGT):\n",
    "  def __init__(self,*args,**kwargs):\n",
    "    # Definición de los enlaces usando parámetros DH\n",
    "    \n",
    "    eje1 = rtb.RevoluteDH(alpha=-np.pi/2,a=0,d=173.9,offset=0,qlim=[-170*np.pi/180,170*np.pi/180])\n",
    "    eje2 = rtb.RevoluteDH(alpha=0,a=135,d=0,offset=-np.pi/2,qlim=[-120*np.pi/180,120*np.pi/180])\n",
    "    eje3 = rtb.RevoluteDH(alpha=0,a=120,d=0,offset=0,qlim=[-148*np.pi/180,148*np.pi/180]) \n",
    "    eje4 = rtb.RevoluteDH(alpha=np.pi/2,a=0,d=88.78,offset=np.pi/2,qlim=[-120*np.pi/180,135*np.pi/180])\n",
    "    eje5 = rtb.RevoluteDH(alpha=-np.pi/2,a=0,d=95,offset=0,qlim=[-169*np.pi/180,169*np.pi/180])    \n",
    "    eje6 = rtb.RevoluteDH(alpha=0,a=0,d=65.5,offset=0,qlim=[-180*np.pi/180,180*np.pi/180])\n",
    "    \n",
    "    # Crear la estructura del robot\n",
    "    super().__init__(*args,[eje1, eje2, eje3, eje4, eje5, eje6], name='myCobot320',gravity = np.array([0, 0, -9.8]),**kwargs)\n",
    "\n"
   ]
  },
  {
   "cell_type": "code",
   "execution_count": 8,
   "metadata": {},
   "outputs": [
    {
     "name": "stdout",
     "output_type": "stream",
     "text": [
      "DHRobot: myCobot320, 6 joints (RRRRRR), dynamics, standard DH parameters\n",
      "┌───────────┬───────┬─────┬────────┬─────────┬────────┐\n",
      "│    θⱼ     │  dⱼ   │ aⱼ  │   ⍺ⱼ   │   q⁻    │   q⁺   │\n",
      "├───────────┼───────┼─────┼────────┼─────────┼────────┤\n",
      "│  q1       │ 173.9 │   0 │ -90.0° │ -170.0° │ 170.0° │\n",
      "│  q2 - 90° │     0 │ 135 │   0.0° │ -120.0° │ 120.0° │\n",
      "│  q3       │     0 │ 120 │   0.0° │ -148.0° │ 148.0° │\n",
      "│  q4 + 90° │ 88.78 │   0 │  90.0° │ -120.0° │ 135.0° │\n",
      "│  q5       │    95 │   0 │ -90.0° │ -169.0° │ 169.0° │\n",
      "│  q6       │  65.5 │   0 │   0.0° │ -180.0° │ 180.0° │\n",
      "└───────────┴───────┴─────┴────────┴─────────┴────────┘\n",
      "\n",
      "┌──┬──┐\n",
      "└──┴──┘\n",
      "\n"
     ]
    }
   ],
   "source": [
    "cobot = myCobot320()\n",
    "print(cobot)"
   ]
  },
  {
   "attachments": {
    "image.png": {
     "image/png": "[encoded data removed]"
    }
   },
   "cell_type": "markdown",
   "metadata": {},
   "source": [
    "# Cinemática Directa\n",
    "\n",
    "## Ternas y matrices de rototraslación\n",
    "\n",
    "![image.png](attachment:image.png)"
   ]
  },
  {
   "cell_type": "markdown",
   "metadata": {},
   "source": [
    "$$A^1_0 = \\begin{bmatrix}\n",
    " c \\theta_1&  0&  -s \\theta_1&  0\\\\\n",
    " s \\theta_1&  0&  c \\theta_1&  0\\\\\n",
    " 0&  -1&  0&  d_1\\\\\n",
    "0 &  0&  0& 1\n",
    "\\end{bmatrix}\n",
    "\\quad\n",
    "A^2_1 = \\begin{bmatrix}\n",
    " c \\theta_2&  -s \\theta_2&  0&  a_2 c\\theta_2\\\\\n",
    " s \\theta_2&  c\\theta_2&  0&  a_2 s\\theta_2\\\\\n",
    " 0&  0&  1&  0\\\\\n",
    "0 &  0&  0& 1\n",
    "\\end{bmatrix} \n",
    "\\quad\n",
    "A^3_2 = \\begin{bmatrix}\n",
    " c \\theta_3&  -s \\theta_3&  0&  a_3 c\\theta_3\\\\\n",
    " s \\theta_3&  c\\theta_3&  0&  a_3 s\\theta_3\\\\\n",
    " 0&  0&  1&  0\\\\\n",
    "0 &  0&  0& 1\n",
    "\\end{bmatrix} $$\n",
    "\n",
    "$$A^4_3 = \\begin{bmatrix}\n",
    " c \\theta_4&  0&  s \\theta_4&  0\\\\\n",
    " s \\theta_4&  0&  -c \\theta_4&  0\\\\\n",
    " 0&  1&  0&  d_4\\\\\n",
    "0 &  0&  0& 1\n",
    "\\end{bmatrix}\n",
    "\\quad\n",
    "A^5_4 = \\begin{bmatrix}\n",
    " c \\theta_5&  0&  -s \\theta_5&  0\\\\\n",
    " s \\theta_5&  0&  c \\theta_5&  0\\\\\n",
    " 0&  -1&  0&  d_5\\\\\n",
    "0 &  0&  0& 1\n",
    "\\end{bmatrix}\n",
    "\\quad\n",
    "A^6_5 = \\begin{bmatrix}\n",
    " c \\theta_6&  -s \\theta_6&  0&  0\\\\\n",
    " s \\theta_6&  c\\theta_6&  0&  0\\\\\n",
    " 0&  0&  1&  d_6\\\\\n",
    "0 &  0&  0& 1\n",
    "\\end{bmatrix} $$"
   ]
  },
  {
   "cell_type": "markdown",
   "metadata": {},
   "source": [
    "# Cinemática Inversa\n",
    "\n",
    "Definimos las variables y matrices previas:"
   ]
  },
  {
   "cell_type": "code",
   "execution_count": 9,
   "metadata": {},
   "outputs": [],
   "source": [
    "import sympy as smp\n",
    "\n",
    "theta_1, theta_2, theta_3, theta_4, theta_5, theta_6 = smp.symbols('theta_1:7')\n",
    "p_x, p_y, p_z = smp.symbols('p_x p_y p_z')\n",
    "n_x, n_y, n_z = smp.symbols('n_x n_y n_z')\n",
    "s_x, s_y, s_z = smp.symbols('s_x s_y s_z')\n",
    "a_x, a_y, a_z = smp.symbols('a_x a_y a_z')\n",
    "d_1, d_4, d_5, d_6 = smp.symbols('d_1 d_4 d_5 d_6')\n",
    "a_2, a_3 = smp.symbols('a_2 a_3')\n",
    "\n",
    "A10 = smp.Matrix([\n",
    "    [smp.cos(theta_1), 0, -smp.sin(theta_1), 0],\n",
    "    [smp.sin(theta_1), 0, smp.cos(theta_1), 0],\n",
    "    [0, -1, 0, d_1],\n",
    "    [0, 0, 0, 1]])\n",
    "\n",
    "A21 = smp.Matrix([\n",
    "    [smp.cos(theta_2), -smp.sin(theta_2), 0, a_2 * smp.cos(theta_2)],\n",
    "    [smp.sin(theta_2), smp.cos(theta_2), 0, a_2 * smp.sin(theta_2)],\n",
    "    [0, 0, 1, 0],\n",
    "    [0, 0, 0, 1]\n",
    "])\n",
    "\n",
    "A32 = smp.Matrix([\n",
    "    [smp.cos(theta_3), -smp.sin(theta_3), 0, a_3 * smp.cos(theta_3)],\n",
    "    [smp.sin(theta_3), smp.cos(theta_3), 0, a_3 * smp.sin(theta_3)],\n",
    "    [0, 0, 1, 0],\n",
    "    [0, 0, 0, 1]\n",
    "])\n",
    "\n",
    "A43 = smp.Matrix([\n",
    "    [smp.cos(theta_4), 0, smp.sin(theta_4), 0],\n",
    "    [smp.sin(theta_4), 0, -smp.cos(theta_4), 0],\n",
    "    [0, 1, 0, d_4],\n",
    "    [0, 0, 0, 1]\n",
    "])\n",
    "\n",
    "A54 = smp.Matrix([\n",
    "    [smp.cos(theta_5), 0, -smp.sin(theta_5), 0],\n",
    "    [smp.sin(theta_5), 0, smp.cos(theta_5), 0],\n",
    "    [0, -1, 0, d_5],\n",
    "    [0, 0, 0, 1]\n",
    "])\n",
    "\n",
    "A65 = smp.Matrix([\n",
    "    [smp.cos(theta_6), -smp.sin(theta_6), 0, 0],\n",
    "    [smp.sin(theta_6), smp.cos(theta_6), 0, 0],\n",
    "    [0, 0, 1, d_6],\n",
    "    [0, 0, 0, 1]\n",
    "])\n",
    "\n",
    "POSE = smp.Matrix([\n",
    "    [n_x, s_x, a_x, p_x],\n",
    "    [n_y, s_y, a_y, p_y],\n",
    "    [n_z, s_z, a_z, p_z],\n",
    "    [0, 0, 0, 1]\n",
    "])"
   ]
  },
  {
   "cell_type": "markdown",
   "metadata": {},
   "source": [
    "Planteamos \n",
    "\n",
    "$$A^6_0 = A^1_0 \\, A^2_1 \\, A^3_2 \\, A^4_3 \\, A^5_4 \\, A^6_5$$\n",
    "\n",
    "$${A^1_0}^{-1} \\, A^6_0 = A^2_1 \\, A^3_2 \\, A^4_3 \\, A^5_4 \\, A^6_5$$\n",
    "\n",
    "según se propone [acá](https://collaborative-robot.org/articles/1-8).\n",
    "\n",
    "## $q_1$\n",
    "\n",
    "Lo primero que se puede calcular es $\\theta_1$ y $\\theta_5$. Para esto analizamos la tercera y cuarta columna de la tercera fila, $A_{33}$ y $A_{34}$ ([2,2] y [2,3] en índices de python). Obtenemos entonces un sistema de 2x2:"
   ]
  },
  {
   "cell_type": "code",
   "execution_count": 10,
   "metadata": {},
   "outputs": [
    {
     "data": {
      "text/markdown": [
       "$$\\cos{\\left(\\theta_{5} \\right)} = - a_{x} \\sin{\\left(\\theta_{1} \\right)} + a_{y} \\cos{\\left(\\theta_{1} \\right)} \\\\[5pt] d_{4} + d_{6} \\cos{\\left(\\theta_{5} \\right)} = - p_{x} \\sin{\\left(\\theta_{1} \\right)} + p_{y} \\cos{\\left(\\theta_{1} \\right)}$$"
      ],
      "text/plain": [
       "<IPython.core.display.Markdown object>"
      ]
     },
     "execution_count": 10,
     "metadata": {},
     "output_type": "execute_result"
    }
   ],
   "source": [
    "eq1 = smp.Eq((A21*A32*A43*A54*A65)[2,2], (A10.inv()*POSE)[2,2])\n",
    "eq2 = smp.Eq((A21*A32*A43*A54*A65)[2,3], (A10.inv()*POSE)[2,3])\n",
    "\n",
    "from IPython.display import Markdown as md\n",
    "\n",
    "md(f'$${smp.latex(eq1)} \\\\\\\\[5pt] {smp.latex(eq2)}$$')"
   ]
  },
  {
   "cell_type": "markdown",
   "metadata": {},
   "source": [
    "De la primera ecuación despejamos $\\theta_5$ tomando $\\mathrm{arc cos}$:"
   ]
  },
  {
   "cell_type": "code",
   "execution_count": 11,
   "metadata": {},
   "outputs": [
    {
     "data": {
      "text/markdown": [
       "$$\\theta_5 = \\operatorname{acos}{\\left(- a_{x} \\sin{\\left(\\theta_{1} \\right)} + a_{y} \\cos{\\left(\\theta_{1} \\right)} \\right)}$$"
      ],
      "text/plain": [
       "<IPython.core.display.Markdown object>"
      ]
     },
     "execution_count": 11,
     "metadata": {},
     "output_type": "execute_result"
    }
   ],
   "source": [
    "theta_5_exp = smp.acos(eq1.rhs)\n",
    "md(f'$$\\\\theta_5 = {smp.latex(theta_5_exp)}$$')"
   ]
  },
  {
   "cell_type": "markdown",
   "metadata": {},
   "source": [
    "Esta expresión la sustituimos en la segunda ecuación y nos queda una ecuación que únicamente depende de $\\theta_1$."
   ]
  },
  {
   "cell_type": "code",
   "execution_count": 12,
   "metadata": {},
   "outputs": [
    {
     "data": {
      "text/latex": [
       "$\\displaystyle d_{4} + d_{6} \\left(- a_{x} \\sin{\\left(\\theta_{1} \\right)} + a_{y} \\cos{\\left(\\theta_{1} \\right)}\\right) = - p_{x} \\sin{\\left(\\theta_{1} \\right)} + p_{y} \\cos{\\left(\\theta_{1} \\right)}$"
      ],
      "text/plain": [
       "Eq(d_4 + d_6*(-a_x*sin(theta_1) + a_y*cos(theta_1)), -p_x*sin(theta_1) + p_y*cos(theta_1))"
      ]
     },
     "execution_count": 12,
     "metadata": {},
     "output_type": "execute_result"
    }
   ],
   "source": [
    "eq_theta1 = eq2.subs(theta_5, theta_5_exp)\n",
    "eq_theta1"
   ]
  },
  {
   "cell_type": "markdown",
   "metadata": {},
   "source": [
    "La solución obtenida mediante sympy es:"
   ]
  },
  {
   "cell_type": "code",
   "execution_count": 13,
   "metadata": {},
   "outputs": [
    {
     "data": {
      "text/markdown": [
       "$$\\theta_1 = - 2 \\operatorname{atan}{\\left(\\frac{- a_{x} d_{6} + p_{x} + \\sqrt{a_{x}^{2} d_{6}^{2} - 2 a_{x} d_{6} p_{x} + a_{y}^{2} d_{6}^{2} - 2 a_{y} d_{6} p_{y} - d_{4}^{2} + p_{x}^{2} + p_{y}^{2}}}{- a_{y} d_{6} + d_{4} + p_{y}} \\right)}$$"
      ],
      "text/plain": [
       "<IPython.core.display.Markdown object>"
      ]
     },
     "execution_count": 13,
     "metadata": {},
     "output_type": "execute_result"
    }
   ],
   "source": [
    "sol_q1 = smp.solve(eq_theta1, theta_1)[0].simplify()\n",
    "md(f'$$\\\\theta_1 = {smp.latex(sol_q1)}$$')"
   ]
  },
  {
   "cell_type": "markdown",
   "metadata": {},
   "source": [
    "Esto difiere del atan2:\n",
    "\n",
    "$$\\theta_1 = \\arctan2\\left(d_4 \\, ; \\, \\mathrm{conf_1} \\cdot \\sqrt{(p_x - a_x d_6)^2 + (p_y - a_y d_6)^2 - d_4^2}\\right) - \\arctan2\\left(p_y - a_y d_6\\, ; \\, a_x d_6 - p_x\\right)$$\n",
    "\n",
    "Aunque el radicando es el mismo. La solución de sympy no lo toma como discriminante y tampoco considera $\\mathrm{atan2}$. \n",
    "\n",
    "Podemos probar valores numéricos para ver cómo se comparan."
   ]
  },
  {
   "cell_type": "code",
   "execution_count": 14,
   "metadata": {},
   "outputs": [
    {
     "data": {
      "text/latex": [
       "$\\displaystyle 1.47162975995091$"
      ],
      "text/plain": [
       "1.47162975995091"
      ]
     },
     "execution_count": 14,
     "metadata": {},
     "output_type": "execute_result"
    }
   ],
   "source": [
    "# Los valores son arbitrarios, salvo por aquellas que son parámetros constructivos.\n",
    "num_vals = {\n",
    "    n_x: 0.18, s_x: 0.91, a_x: 1.84, p_x: 28,\n",
    "    n_y: 0.37, s_y: 0.71, a_y: 1.27, p_y: 50,\n",
    "    n_z: 0.43, s_z: 0.08, a_z: 0.65, p_z: 14,\n",
    "    d_1: 173.9, a_2: 135, a_3: 120, d_4: 88.78, d_5: 95, d_6: 65.5\n",
    "}\n",
    "\n",
    "# Expresión obtenida con sympy: la raíz se suma\n",
    "result = smp.N(sol_q1.subs(num_vals))\n",
    "result"
   ]
  },
  {
   "cell_type": "markdown",
   "metadata": {},
   "source": [
    "Planteamos la suma y resta del radicando obtenido con sympy:"
   ]
  },
  {
   "cell_type": "code",
   "execution_count": 15,
   "metadata": {},
   "outputs": [],
   "source": [
    "expr_0 = -2 * smp.atan(\n",
    "    (-a_x * d_6 + p_x + smp.sqrt(\n",
    "        a_x**2 * d_6**2 - 2 * a_x * d_6 * p_x + a_y**2 * d_6**2 - 2 * a_y * d_6 * p_y - d_4**2 + p_x**2 + p_y**2\n",
    "    )) / (-a_y * d_6 + d_4 + p_y)\n",
    ")\n",
    "\n",
    "expr_1 = -2 * smp.atan(\n",
    "    (-a_x * d_6 + p_x - smp.sqrt(\n",
    "        a_x**2 * d_6**2 - 2 * a_x * d_6 * p_x + a_y**2 * d_6**2 - 2 * a_y * d_6 * p_y - d_4**2 + p_x**2 + p_y**2\n",
    "    )) / (-a_y * d_6 + d_4 + p_y)\n",
    ")"
   ]
  },
  {
   "cell_type": "code",
   "execution_count": 16,
   "metadata": {},
   "outputs": [
    {
     "data": {
      "text/markdown": [
       "Sympy: raíz suma $\\Rightarrow \\quad \\theta_1 = 1.47162975995091$"
      ],
      "text/plain": [
       "<IPython.core.display.Markdown object>"
      ]
     },
     "execution_count": 16,
     "metadata": {},
     "output_type": "execute_result"
    }
   ],
   "source": [
    "md(f'Sympy: raíz suma $\\\\Rightarrow \\\\quad \\\\theta_1 = {smp.latex(smp.N(expr_0.subs(num_vals)))}$')"
   ]
  },
  {
   "cell_type": "code",
   "execution_count": 17,
   "metadata": {},
   "outputs": [
    {
     "data": {
      "text/markdown": [
       "Sympy: raíz resta $\\Rightarrow \\quad \\theta_1 = 2.35873455214282$"
      ],
      "text/plain": [
       "<IPython.core.display.Markdown object>"
      ]
     },
     "execution_count": 17,
     "metadata": {},
     "output_type": "execute_result"
    }
   ],
   "source": [
    "md(f'Sympy: raíz resta $\\\\Rightarrow \\\\quad \\\\theta_1 = {smp.latex(smp.N(expr_1.subs(num_vals)))}$')"
   ]
  },
  {
   "cell_type": "markdown",
   "metadata": {},
   "source": [
    "Lo comparamos con la expresión con $\\mathrm{atan2}$:"
   ]
  },
  {
   "cell_type": "code",
   "execution_count": null,
   "metadata": {},
   "outputs": [],
   "source": [
    "# Variables numéricas (para usar en numpy por ejemplo)\n",
    "[nx_val, sx_val, ax_val, px_val, \n",
    " ny_val, sy_val, ay_val, py_val, \n",
    " nz_val, sz_val, az_val, pz_val, \n",
    " d1_val, a2_val, a3_val, d4_val, d5_val, d6_val] = [num_vals[key] for key in num_vals.keys()]"
   ]
  },
  {
   "cell_type": "code",
   "execution_count": 19,
   "metadata": {},
   "outputs": [
    {
     "name": "stdout",
     "output_type": "stream",
     "text": [
      "atan2: conf1 = 1 => 1.4716297599509096\n",
      "atan2: conf1 = -1 => 2.3587345521428196\n"
     ]
    }
   ],
   "source": [
    "discr = (px_val - ax_val * d6_val)**2 + (py_val - ay_val * d6_val)**2 - d4_val**2\n",
    "q1_p = np.arctan2(d4_val, 1 * np.sqrt(discr)) - np.arctan2(py_val - ay_val * d6_val, ax_val * d6_val - px_val)\n",
    "q1_n = np.arctan2(d4_val, -1 * np.sqrt(discr)) - np.arctan2(py_val - ay_val * d6_val, ax_val * d6_val - px_val)\n",
    "\n",
    "print(f'atan2: conf1 = 1 => {q1_p}')\n",
    "print(f'atan2: conf1 = -1 => {q1_n}')"
   ]
  },
  {
   "cell_type": "markdown",
   "metadata": {},
   "source": [
    "## $q_5$\n",
    "\n",
    "Igualamos la fila 3, columnas 1 y 2 para obtener las siguientes ecuaciones:"
   ]
  },
  {
   "cell_type": "code",
   "execution_count": 20,
   "metadata": {},
   "outputs": [
    {
     "data": {
      "text/markdown": [
       "$$\\sin{\\left(\\theta_{5} \\right)} \\cos{\\left(\\theta_{6} \\right)} = - n_{x} \\sin{\\left(\\theta_{1} \\right)} + n_{y} \\cos{\\left(\\theta_{1} \\right)} \\\\[5pt] - \\sin{\\left(\\theta_{5} \\right)} \\sin{\\left(\\theta_{6} \\right)} = - s_{x} \\sin{\\left(\\theta_{1} \\right)} + s_{y} \\cos{\\left(\\theta_{1} \\right)}$$"
      ],
      "text/plain": [
       "<IPython.core.display.Markdown object>"
      ]
     },
     "execution_count": 20,
     "metadata": {},
     "output_type": "execute_result"
    }
   ],
   "source": [
    "eq3 = smp.Eq((A21*A32*A43*A54*A65)[2,0], (A10.inv()*POSE)[2,0])\n",
    "eq4 = smp.Eq((A21*A32*A43*A54*A65)[2,1], (A10.inv()*POSE)[2,1])\n",
    "\n",
    "md(f'$${smp.latex(eq3)} \\\\\\\\[5pt] {smp.latex(eq4)}$$')"
   ]
  },
  {
   "cell_type": "markdown",
   "metadata": {},
   "source": [
    "Elevamos al cuadrado y sumamos las ecuaciones para eliminar $\\theta_6$:"
   ]
  },
  {
   "cell_type": "code",
   "execution_count": 21,
   "metadata": {},
   "outputs": [
    {
     "data": {
      "text/latex": [
       "$\\displaystyle \\sin^{2}{\\left(\\theta_{5} \\right)} = \\left(n_{x} \\sin{\\left(\\theta_{1} \\right)} - n_{y} \\cos{\\left(\\theta_{1} \\right)}\\right)^{2} + \\left(s_{x} \\sin{\\left(\\theta_{1} \\right)} - s_{y} \\cos{\\left(\\theta_{1} \\right)}\\right)^{2}$"
      ],
      "text/plain": [
       "Eq(sin(theta_5)**2, (n_x*sin(theta_1) - n_y*cos(theta_1))**2 + (s_x*sin(theta_1) - s_y*cos(theta_1))**2)"
      ]
     },
     "execution_count": 21,
     "metadata": {},
     "output_type": "execute_result"
    }
   ],
   "source": [
    "eq34_aux = smp.Eq(eq3.lhs**2 + eq4.lhs**2, eq3.rhs**2 + eq4.rhs**2)\n",
    "eq34_aux.simplify()"
   ]
  },
  {
   "cell_type": "markdown",
   "metadata": {},
   "source": [
    "Nos queda la expresión para $\\sin(\\theta_5)$."
   ]
  },
  {
   "cell_type": "code",
   "execution_count": 22,
   "metadata": {
    "tags": [
     "r_input"
    ]
   },
   "outputs": [
    {
     "data": {
      "text/markdown": [
       "$$\\sin(\\theta_5) = \\pm \\sqrt{\\left(- n_{x} \\sin{\\left(\\theta_{1} \\right)} + n_{y} \\cos{\\left(\\theta_{1} \\right)}\\right)^{2} + \\left(- s_{x} \\sin{\\left(\\theta_{1} \\right)} + s_{y} \\cos{\\left(\\theta_{1} \\right)}\\right)^{2}}$$"
      ],
      "text/plain": [
       "<IPython.core.display.Markdown object>"
      ]
     },
     "execution_count": 22,
     "metadata": {},
     "output_type": "execute_result"
    }
   ],
   "source": [
    "md(f'$$\\\\sin(\\\\theta_5) = \\\\pm \\\\sqrt{{{smp.latex(eq34_aux.rhs)}}}$$')"
   ]
  },
  {
   "cell_type": "markdown",
   "metadata": {},
   "source": [
    "En el análisis de $q_1$ habíamos despejado $\\cos{(\\theta_2)}$. Con estos datos usamos $\\arctan 2$ y obtenemos $q_5$. El $\\pm$ en el despeje de $\\sin{(\\theta_5)}$ indica las posibles configuraciones."
   ]
  },
  {
   "cell_type": "code",
   "execution_count": 23,
   "metadata": {},
   "outputs": [
    {
     "data": {
      "text/markdown": [
       "$$ q_5 = \\arctan 2(\\pm\\sqrt{\\left(- n_{x} \\sin{\\left(\\theta_{1} \\right)} + n_{y} \\cos{\\left(\\theta_{1} \\right)}\\right)^{2} + \\left(- s_{x} \\sin{\\left(\\theta_{1} \\right)} + s_{y} \\cos{\\left(\\theta_{1} \\right)}\\right)^{2}}, - a_{x} \\sin{\\left(\\theta_{1} \\right)} + a_{y} \\cos{\\left(\\theta_{1} \\right)}) $$"
      ],
      "text/plain": [
       "<IPython.core.display.Markdown object>"
      ]
     },
     "execution_count": 23,
     "metadata": {},
     "output_type": "execute_result"
    }
   ],
   "source": [
    "md(f'$$ q_5 = \\\\arctan 2(\\pm{smp.latex(smp.sqrt(eq34_aux.rhs))}, {smp.latex(eq1.rhs)}) $$')"
   ]
  },
  {
   "cell_type": "markdown",
   "metadata": {},
   "source": [
    "## $q_6$\n",
    "\n",
    "Conocidas $q_1$ y $q_5$, se puede plantear $\\arctan 2$ en las ecuaciones usadas para hallar $q_5$."
   ]
  },
  {
   "cell_type": "code",
   "execution_count": 24,
   "metadata": {},
   "outputs": [
    {
     "data": {
      "text/markdown": [
       "$$ \\cos(\\theta_6) = \\frac{- n_{x} \\sin{\\left(\\theta_{1} \\right)} + n_{y} \\cos{\\left(\\theta_{1} \\right)}}{\\sin{\\left(\\theta_{5} \\right)}} \\\\[10pt]     \\sin(\\theta_6) = \\frac{s_{x} \\sin{\\left(\\theta_{1} \\right)} - s_{y} \\cos{\\left(\\theta_{1} \\right)}}{\\sin{\\left(\\theta_{5} \\right)}} \\\\[10pt]     \\theta_6 = \\operatorname{atan}_{2}{\\left(\\frac{s_{x} \\sin{\\left(\\theta_{1} \\right)} - s_{y} \\cos{\\left(\\theta_{1} \\right)}}{\\sin{\\left(\\theta_{5} \\right)}},\\frac{- n_{x} \\sin{\\left(\\theta_{1} \\right)} + n_{y} \\cos{\\left(\\theta_{1} \\right)}}{\\sin{\\left(\\theta_{5} \\right)}} \\right)}$$"
      ],
      "text/plain": [
       "<IPython.core.display.Markdown object>"
      ]
     },
     "execution_count": 24,
     "metadata": {},
     "output_type": "execute_result"
    }
   ],
   "source": [
    "md(f'$$ \\\\cos(\\\\theta_6) = {smp.latex(smp.solve(eq3, smp.cos(theta_6))[0])} \\\\\\\\[10pt] \\\n",
    "    \\\\sin(\\\\theta_6) = {smp.latex(smp.solve(eq4, smp.sin(theta_6))[0])} \\\\\\\\[10pt] \\\n",
    "    \\\\theta_6 = {smp.latex(smp.atan2(smp.solve(eq4, smp.sin(theta_6))[0], smp.solve(eq3, smp.cos(theta_6))[0]))}$$')"
   ]
  },
  {
   "cell_type": "markdown",
   "metadata": {},
   "source": [
    "Habrá una indeterminación cuando $\\sin(\\theta_5) = 0$. Como los topes no permiten llegar a $\\theta_5 = \\pi$, la singularidad solo ocurre para $\\theta_5 = 0$."
   ]
  },
  {
   "cell_type": "markdown",
   "metadata": {},
   "source": [
    "## $q_{234}$\n",
    "\n",
    "Dado que $q_2$, $q_3$ y $q_4$ están acopladas en todas las ecuaciones restantes, calculamos primero $\\theta_2 + \\theta_3 + \\theta_4$ y luego buscamos relaciones lineales con las variables articulares restantes. De la primera y segunda fila de la tercera columna se obtiene:"
   ]
  },
  {
   "cell_type": "code",
   "execution_count": 25,
   "metadata": {},
   "outputs": [
    {
     "data": {
      "text/markdown": [
       "$$- \\sin{\\left(\\theta_{5} \\right)} \\cos{\\left(\\theta_{2} + \\theta_{3} + \\theta_{4} \\right)} = a_{x} \\cos{\\left(\\theta_{1} \\right)} + a_{y} \\sin{\\left(\\theta_{1} \\right)} \\\\[5pt] - \\sin{\\left(\\theta_{5} \\right)} \\sin{\\left(\\theta_{2} + \\theta_{3} + \\theta_{4} \\right)} = - a_{z}$$"
      ],
      "text/plain": [
       "<IPython.core.display.Markdown object>"
      ]
     },
     "execution_count": 25,
     "metadata": {},
     "output_type": "execute_result"
    }
   ],
   "source": [
    "eq5 = smp.Eq((A21*A32*A43*A54*A65)[0,2].simplify(), (A10.inv()*POSE)[0,2].simplify())\n",
    "eq6 = smp.Eq((A21*A32*A43*A54*A65)[1,2].simplify(), (A10.inv()*POSE)[1,2])\n",
    "\n",
    "md(f'$${smp.latex(eq5)} \\\\\\\\[5pt] {smp.latex(eq6)}$$')"
   ]
  },
  {
   "cell_type": "markdown",
   "metadata": {},
   "source": [
    "Dividiendo por $-\\sin(\\theta_5)$ planteamos $\\arctan 2$:"
   ]
  },
  {
   "cell_type": "code",
   "execution_count": 26,
   "metadata": {},
   "outputs": [
    {
     "data": {
      "text/markdown": [
       "$$\\theta_2 + \\theta_3 + \\theta_4 = \\operatorname{atan}_{2}{\\left(\\frac{a_{z}}{\\sin{\\left(\\theta_{5} \\right)}},- \\frac{a_{x} \\cos{\\left(\\theta_{1} \\right)} + a_{y} \\sin{\\left(\\theta_{1} \\right)}}{\\sin{\\left(\\theta_{5} \\right)}} \\right)}$$"
      ],
      "text/plain": [
       "<IPython.core.display.Markdown object>"
      ]
     },
     "execution_count": 26,
     "metadata": {},
     "output_type": "execute_result"
    }
   ],
   "source": [
    "md(f'$$\\\\theta_2 + \\\\theta_3 + \\\\theta_4 = {smp.latex(smp.atan2(smp.solve(eq6, smp.sin(theta_2 + theta_3 + theta_4))[0], smp.solve(eq5, smp.cos(theta_2 + theta_3 + theta_4))[0]))}$$')"
   ]
  },
  {
   "cell_type": "markdown",
   "metadata": {},
   "source": [
    "## $q_3$\n",
    "\n",
    "Armamos las ecuaciones con las filas 1 y 2 de la columna 4:"
   ]
  },
  {
   "cell_type": "code",
   "execution_count": 27,
   "metadata": {},
   "outputs": [
    {
     "data": {
      "text/markdown": [
       "$$a_{2} \\cos{\\left(\\theta_{2} \\right)} + a_{3} \\cos{\\left(\\theta_{2} + \\theta_{3} \\right)} + d_{5} \\sin{\\left(\\theta_{2} + \\theta_{3} + \\theta_{4} \\right)} - d_{6} \\sin{\\left(\\theta_{5} \\right)} \\cos{\\left(\\theta_{2} + \\theta_{3} + \\theta_{4} \\right)} = p_{x} \\cos{\\left(\\theta_{1} \\right)} + \\frac{p_{y} \\sin{\\left(2 \\theta_{1} \\right)}}{2 \\cos{\\left(\\theta_{1} \\right)}} \\\\[5pt] a_{2} \\sin{\\left(\\theta_{2} \\right)} + a_{3} \\sin{\\left(\\theta_{2} + \\theta_{3} \\right)} - d_{5} \\cos{\\left(\\theta_{2} + \\theta_{3} + \\theta_{4} \\right)} - d_{6} \\sin{\\left(\\theta_{5} \\right)} \\sin{\\left(\\theta_{2} + \\theta_{3} + \\theta_{4} \\right)} = d_{1} - p_{z}$$"
      ],
      "text/plain": [
       "<IPython.core.display.Markdown object>"
      ]
     },
     "execution_count": 27,
     "metadata": {},
     "output_type": "execute_result"
    }
   ],
   "source": [
    "eq7 = smp.Eq((A21*A32*A43*A54*A65)[0,3].simplify(), (A10.inv()*POSE)[0,3].simplify())\n",
    "eq8 = smp.Eq((A21*A32*A43*A54*A65)[1,3].simplify(), (A10.inv()*POSE)[1,3])\n",
    "\n",
    "md(f'$${smp.latex(eq7)} \\\\\\\\[5pt] {smp.latex(eq8)}$$')"
   ]
  },
  {
   "cell_type": "markdown",
   "metadata": {},
   "source": [
    "Pasamos los términos afectados por $(\\theta_2 + \\theta_3 + \\theta_4)$ al otro miembro."
   ]
  },
  {
   "cell_type": "code",
   "execution_count": 28,
   "metadata": {},
   "outputs": [
    {
     "data": {
      "text/markdown": [
       "$$a_{2} \\cos{\\left(\\theta_{2} \\right)} + a_{3} \\cos{\\left(\\theta_{2} + \\theta_{3} \\right)} = - d_{5} \\sin{\\left(\\theta_{2} + \\theta_{3} + \\theta_{4} \\right)} + d_{6} \\sin{\\left(\\theta_{5} \\right)} \\cos{\\left(\\theta_{2} + \\theta_{3} + \\theta_{4} \\right)} + p_{x} \\cos{\\left(\\theta_{1} \\right)} + p_{y} \\sin{\\left(\\theta_{1} \\right)} \\\\[5pt] a_{2} \\sin{\\left(\\theta_{2} \\right)} + a_{3} \\sin{\\left(\\theta_{2} + \\theta_{3} \\right)} = d_{1} + d_{5} \\cos{\\left(\\theta_{2} + \\theta_{3} + \\theta_{4} \\right)} + d_{6} \\sin{\\left(\\theta_{5} \\right)} \\sin{\\left(\\theta_{2} + \\theta_{3} + \\theta_{4} \\right)} - p_{z}$$"
      ],
      "text/plain": [
       "<IPython.core.display.Markdown object>"
      ]
     },
     "execution_count": 28,
     "metadata": {},
     "output_type": "execute_result"
    }
   ],
   "source": [
    "A, B = smp.symbols('A B')\n",
    "A_expr = -d_5*smp.sin(theta_2 + theta_3 + theta_4) + d_6*smp.sin(theta_5)*smp.cos(theta_2 + theta_3 + theta_4)\n",
    "B_expr = d_5*smp.cos(theta_2 + theta_3 + theta_4) + d_6*smp.sin(theta_5)*smp.sin(theta_2 + theta_3 + theta_4)\n",
    "\n",
    "eq7_0 = smp.Eq(eq7.rhs + A_expr, eq7.lhs + A_expr).simplify()\n",
    "eq8_0 = smp.Eq(eq8.rhs + B_expr, eq8.lhs + B_expr).simplify()\n",
    "\n",
    "md(f'$${smp.latex(eq7_0)} \\\\\\\\[5pt] {smp.latex(eq8_0)}$$')"
   ]
  },
  {
   "cell_type": "markdown",
   "metadata": {},
   "source": [
    "Sustuituimos al miembro derecho de cada ecuación por $A$ y $B$ respectivamente."
   ]
  },
  {
   "cell_type": "code",
   "execution_count": 29,
   "metadata": {},
   "outputs": [
    {
     "data": {
      "text/markdown": [
       "$$a_{2} \\cos{\\left(\\theta_{2} \\right)} + a_{3} \\cos{\\left(\\theta_{2} + \\theta_{3} \\right)} = A \\\\[5pt] a_{2} \\sin{\\left(\\theta_{2} \\right)} + a_{3} \\sin{\\left(\\theta_{2} + \\theta_{3} \\right)} = B \\\\[5pt]   A = - d_{5} \\sin{\\left(\\theta_{2} + \\theta_{3} + \\theta_{4} \\right)} + d_{6} \\sin{\\left(\\theta_{5} \\right)} \\cos{\\left(\\theta_{2} + \\theta_{3} + \\theta_{4} \\right)} + p_{x} \\cos{\\left(\\theta_{1} \\right)} + p_{y} \\sin{\\left(\\theta_{1} \\right)} \\\\[5pt] B = d_{1} + d_{5} \\cos{\\left(\\theta_{2} + \\theta_{3} + \\theta_{4} \\right)} + d_{6} \\sin{\\left(\\theta_{5} \\right)} \\sin{\\left(\\theta_{2} + \\theta_{3} + \\theta_{4} \\right)} - p_{z}$$"
      ],
      "text/plain": [
       "<IPython.core.display.Markdown object>"
      ]
     },
     "execution_count": 29,
     "metadata": {},
     "output_type": "execute_result"
    }
   ],
   "source": [
    "A_sus = eq7_0.rhs\n",
    "B_sus = eq8_0.rhs\n",
    "eq7_s = eq7_0.subs(A_sus, A)\n",
    "eq8_s = eq8_0.subs(B_sus, B)\n",
    "\n",
    "md(f'$${smp.latex(eq7_s)} \\\\\\\\[5pt] {smp.latex(eq8_s)} \\\\\\\\[5pt]\\\n",
    "   A = {smp.latex(A_sus)} \\\\\\\\[5pt] B = {smp.latex(B_sus)}$$')"
   ]
  },
  {
   "cell_type": "markdown",
   "metadata": {},
   "source": [
    "Elevamos al cuadrado miembro a miembro y luego sumamos:"
   ]
  },
  {
   "cell_type": "code",
   "execution_count": 30,
   "metadata": {},
   "outputs": [
    {
     "data": {
      "text/markdown": [
       "$$A^{2} + B^{2} = a_{2}^{2} + 2 a_{2} a_{3} \\cos{\\left(\\theta_{3} \\right)} + a_{3}^{2}$$"
      ],
      "text/plain": [
       "<IPython.core.display.Markdown object>"
      ]
     },
     "execution_count": 30,
     "metadata": {},
     "output_type": "execute_result"
    }
   ],
   "source": [
    "eq78 = smp.Eq(eq7_s.lhs**2 + eq8_s.lhs**2, eq7_s.rhs**2 + eq8_s.rhs**2)\n",
    "md(f'$${smp.latex(eq78.simplify())}$$')"
   ]
  },
  {
   "cell_type": "markdown",
   "metadata": {},
   "source": [
    "Despejamos $\\cos {(\\theta_3)}$. "
   ]
  },
  {
   "cell_type": "code",
   "execution_count": 31,
   "metadata": {},
   "outputs": [
    {
     "data": {
      "text/markdown": [
       "$$\\cos \\, (\\theta_3) = \\frac{A^{2} + B^{2} - a_{2}^{2} - a_{3}^{2}}{2 a_{2} a_{3}}$$"
      ],
      "text/plain": [
       "<IPython.core.display.Markdown object>"
      ]
     },
     "execution_count": 31,
     "metadata": {},
     "output_type": "execute_result"
    }
   ],
   "source": [
    "md(f'$$\\\\cos \\\\, (\\\\theta_3) = {smp.latex(smp.solve(eq78.simplify(), smp.cos(theta_3))[0])}$$') "
   ]
  },
  {
   "cell_type": "markdown",
   "metadata": {},
   "source": [
    "Podemos plantear una configuración posible de acuerdo a esta variable articular. Agregando el signo y $\\sin (\\theta_3)$ por relación pitagórica:\n",
    "\n",
    "$$\\theta_3 = \\mathrm{atan_2} \\left( \\pm \\sqrt{1 - \\cos^2{(\\theta_3)}} \\, , \\, \\cos{(\\theta_3)} \\right )$$"
   ]
  },
  {
   "cell_type": "markdown",
   "metadata": {},
   "source": [
    "## $q_2$\n",
    "\n",
    "Usamos las mismas ecuaciones que para $q_3$. Primero las reescribimos aplicando las propiedades de seno y coseno de suma de ángulos:"
   ]
  },
  {
   "cell_type": "code",
   "execution_count": 32,
   "metadata": {},
   "outputs": [
    {
     "data": {
      "text/markdown": [
       "$$a_{2} \\cos{\\left(\\theta_{2} \\right)} + a_{3} \\left(- \\sin{\\left(\\theta_{2} \\right)} \\sin{\\left(\\theta_{3} \\right)} + \\cos{\\left(\\theta_{2} \\right)} \\cos{\\left(\\theta_{3} \\right)}\\right) = A \\\\[5pt] a_{2} \\sin{\\left(\\theta_{2} \\right)} + a_{3} \\left(\\sin{\\left(\\theta_{2} \\right)} \\cos{\\left(\\theta_{3} \\right)} + \\sin{\\left(\\theta_{3} \\right)} \\cos{\\left(\\theta_{2} \\right)}\\right) = B$$"
      ],
      "text/plain": [
       "<IPython.core.display.Markdown object>"
      ]
     },
     "execution_count": 32,
     "metadata": {},
     "output_type": "execute_result"
    }
   ],
   "source": [
    "eq7_2 = smp.Eq(a_2*smp.cos(theta_2) + a_3*(smp.cos(theta_2)*smp.cos(theta_3) - smp.sin(theta_2)*smp.sin(theta_3)), A)\n",
    "eq8_2 = smp.Eq(a_2*smp.sin(theta_2) + a_3*(smp.sin(theta_2)*smp.cos(theta_3) + smp.cos(theta_2)*smp.sin(theta_3)), B)\n",
    "\n",
    "md(f'$${smp.latex(eq7_2)} \\\\\\\\[5pt] {smp.latex(eq8_2)}$$')"
   ]
  },
  {
   "cell_type": "markdown",
   "metadata": {},
   "source": [
    "De la primera ecuación despejamos $\\cos{(\\theta_2)}$:\n"
   ]
  },
  {
   "cell_type": "code",
   "execution_count": 33,
   "metadata": {},
   "outputs": [
    {
     "data": {
      "text/markdown": [
       "$$\\cos \\, (\\theta_2) = \\frac{A + a_{3} \\sin{\\left(\\theta_{2} \\right)} \\sin{\\left(\\theta_{3} \\right)}}{a_{2} + a_{3} \\cos{\\left(\\theta_{3} \\right)}}$$"
      ],
      "text/plain": [
       "<IPython.core.display.Markdown object>"
      ]
     },
     "execution_count": 33,
     "metadata": {},
     "output_type": "execute_result"
    }
   ],
   "source": [
    "md(f'$$\\\\cos \\\\, (\\\\theta_2) = {smp.latex(smp.solve(eq7_2, smp.cos(theta_2))[0])}$$')"
   ]
  },
  {
   "cell_type": "markdown",
   "metadata": {},
   "source": [
    "Sustituimos esta expresión en la segunda ecuación:"
   ]
  },
  {
   "cell_type": "code",
   "execution_count": 34,
   "metadata": {},
   "outputs": [
    {
     "data": {
      "text/markdown": [
       "$$ B = \\frac{A a_{3} \\sin{\\left(\\theta_{3} \\right)} + a_{2}^{2} \\sin{\\left(\\theta_{2} \\right)} + 2 a_{2} a_{3} \\sin{\\left(\\theta_{2} \\right)} \\cos{\\left(\\theta_{3} \\right)} + a_{3}^{2} \\sin{\\left(\\theta_{2} \\right)}}{a_{2} + a_{3} \\cos{\\left(\\theta_{3} \\right)}} $$"
      ],
      "text/plain": [
       "<IPython.core.display.Markdown object>"
      ]
     },
     "execution_count": 34,
     "metadata": {},
     "output_type": "execute_result"
    }
   ],
   "source": [
    "md(f'$$ {smp.latex(eq8_2.subs(smp.cos(theta_2), smp.solve(eq7_2, smp.cos(theta_2))[0]).simplify())} $$')"
   ]
  },
  {
   "cell_type": "markdown",
   "metadata": {},
   "source": [
    "Habiendo desacoplado los senos y cosenos de $\\theta_2$, despejamos $\\sin{(\\theta_2)}$:"
   ]
  },
  {
   "cell_type": "code",
   "execution_count": 35,
   "metadata": {},
   "outputs": [
    {
     "data": {
      "text/markdown": [
       "$$\\sin{\\left(\\theta_{2} \\right)} = \\frac{- A a_{3} \\sin{\\left(\\theta_{3} \\right)} + B a_{2} + B a_{3} \\cos{\\left(\\theta_{3} \\right)}}{a_{2}^{2} + 2 a_{2} a_{3} \\cos{\\left(\\theta_{3} \\right)} + a_{3}^{2}}$$"
      ],
      "text/plain": [
       "<IPython.core.display.Markdown object>"
      ]
     },
     "execution_count": 35,
     "metadata": {},
     "output_type": "execute_result"
    }
   ],
   "source": [
    "md(f'$${smp.latex(smp.sin(theta_2))} = {smp.latex(smp.solve(eq8_2.subs(smp.cos(theta_2), smp.solve(eq7_2, smp.cos(theta_2))[0]).simplify(), smp.sin(theta_2))[0].simplify())}$$')"
   ]
  },
  {
   "cell_type": "markdown",
   "metadata": {},
   "source": [
    "Repetimos el razonamiento para $\\cos{(\\theta_2)}$."
   ]
  },
  {
   "cell_type": "code",
   "execution_count": 36,
   "metadata": {},
   "outputs": [
    {
     "data": {
      "text/markdown": [
       "$$\\cos{\\left(\\theta_{2} \\right)} = \\frac{A a_{2} + A a_{3} \\cos{\\left(\\theta_{3} \\right)} + B a_{3} \\sin{\\left(\\theta_{3} \\right)}}{a_{2}^{2} + 2 a_{2} a_{3} \\cos{\\left(\\theta_{3} \\right)} + a_{3}^{2}}$$"
      ],
      "text/plain": [
       "<IPython.core.display.Markdown object>"
      ]
     },
     "execution_count": 36,
     "metadata": {},
     "output_type": "execute_result"
    }
   ],
   "source": [
    "md(f'$${smp.latex(smp.cos(theta_2))} = {smp.latex(smp.solve(eq7_2.subs(smp.sin(theta_2), smp.solve(eq8_2, smp.sin(theta_2))[0]).simplify(), smp.cos(theta_2))[0].simplify())}$$')"
   ]
  },
  {
   "cell_type": "markdown",
   "metadata": {},
   "source": [
    "Finalmente, aplicamos $\\mathrm{atan_2}$:\n",
    "\n",
    "$$\\theta_2 = \\mathrm{atan_2} \\left(\\sin{(\\theta_2)} \\, , \\, \\cos{(\\theta_2)} \\right)$$"
   ]
  },
  {
   "cell_type": "markdown",
   "metadata": {},
   "source": [
    "## $q_4$\n",
    "\n",
    "Con $\\theta_{234}$ despejamos $\\theta_4$.\n",
    "\n",
    "$$\\theta_4 = \\theta_{234} - \\theta_2 - \\theta_3$$"
   ]
  },
  {
   "cell_type": "markdown",
   "metadata": {},
   "source": [
    "# Anexo\n",
    "\n",
    "Cálculo de $\\theta_3$ siguiendo el paper linkeado antes.\n",
    "\n",
    "$$A^2_1 \\, A^3_2 \\, A^4_3 = {A^1_0}^{-1} \\, A^6_0 \\, {A^6_5}^{-1} \\, {A^5_4}^{-1}$$\n",
    "\n",
    "De las filas 1 y 2 de la cuarta columna obtenemos las siguientes ecuaciones:"
   ]
  },
  {
   "cell_type": "code",
   "execution_count": 37,
   "metadata": {},
   "outputs": [
    {
     "data": {
      "text/markdown": [
       "$$a_{2} \\cos{\\left(\\theta_{2} \\right)} + a_{3} \\cos{\\left(\\theta_{2} + \\theta_{3} \\right)} = \\frac{\\frac{d_{5} \\left(\\left(2 n_{x} \\cos^{2}{\\left(\\theta_{1} \\right)} + n_{y} \\sin{\\left(2 \\theta_{1} \\right)}\\right) \\sin{\\left(\\theta_{6} \\right)} + \\left(2 s_{x} \\cos^{2}{\\left(\\theta_{1} \\right)} + s_{y} \\sin{\\left(2 \\theta_{1} \\right)}\\right) \\cos{\\left(\\theta_{6} \\right)}\\right)}{2} - \\frac{d_{6} \\cdot \\left(2 a_{x} \\cos^{2}{\\left(\\theta_{1} \\right)} + a_{y} \\sin{\\left(2 \\theta_{1} \\right)}\\right)}{2} + p_{x} \\cos^{2}{\\left(\\theta_{1} \\right)} + \\frac{p_{y} \\sin{\\left(2 \\theta_{1} \\right)}}{2}}{\\cos{\\left(\\theta_{1} \\right)}} \\\\[10pt] a_{2} \\sin{\\left(\\theta_{2} \\right)} + a_{3} \\sin{\\left(\\theta_{2} + \\theta_{3} \\right)} = a_{z} d_{6} + d_{1} - d_{5} \\left(n_{z} \\sin{\\left(\\theta_{6} \\right)} + s_{z} \\cos{\\left(\\theta_{6} \\right)}\\right) - p_{z}$$"
      ],
      "text/plain": [
       "<IPython.core.display.Markdown object>"
      ]
     },
     "execution_count": 37,
     "metadata": {},
     "output_type": "execute_result"
    }
   ],
   "source": [
    "eq9 = smp.Eq((A21*A32*A43)[0, 3].simplify(),(A10.inv()*POSE*A65.inv()*A54.inv())[0, 3].simplify())\n",
    "eq10 = smp.Eq((A21*A32*A43)[1, 3].simplify(),(A10.inv()*POSE*A65.inv()*A54.inv())[1, 3].simplify())\n",
    "md(f'$${smp.latex(eq9)} \\\\\\\\[10pt] {smp.latex(eq10)}$$')"
   ]
  },
  {
   "cell_type": "markdown",
   "metadata": {},
   "source": [
    "Las elevamos al cuadrado y sumamos entre sí:"
   ]
  },
  {
   "cell_type": "code",
   "execution_count": 38,
   "metadata": {},
   "outputs": [
    {
     "data": {
      "text/latex": [
       "$\\displaystyle a_{2}^{2} + 2 a_{2} a_{3} \\cos{\\left(\\theta_{3} \\right)} + a_{3}^{2} = \\frac{\\left(a_{z} d_{6} + d_{1} - d_{5} \\left(n_{z} \\sin{\\left(\\theta_{6} \\right)} + s_{z} \\cos{\\left(\\theta_{6} \\right)}\\right) - p_{z}\\right)^{2} \\cos^{2}{\\left(\\theta_{1} \\right)} + \\frac{\\left(d_{5} \\left(\\left(2 n_{x} \\cos^{2}{\\left(\\theta_{1} \\right)} + n_{y} \\sin{\\left(2 \\theta_{1} \\right)}\\right) \\sin{\\left(\\theta_{6} \\right)} + \\left(2 s_{x} \\cos^{2}{\\left(\\theta_{1} \\right)} + s_{y} \\sin{\\left(2 \\theta_{1} \\right)}\\right) \\cos{\\left(\\theta_{6} \\right)}\\right) - d_{6} \\cdot \\left(2 a_{x} \\cos^{2}{\\left(\\theta_{1} \\right)} + a_{y} \\sin{\\left(2 \\theta_{1} \\right)}\\right) + 2 p_{x} \\cos^{2}{\\left(\\theta_{1} \\right)} + p_{y} \\sin{\\left(2 \\theta_{1} \\right)}\\right)^{2}}{4}}{\\cos^{2}{\\left(\\theta_{1} \\right)}}$"
      ],
      "text/plain": [
       "Eq(a_2**2 + 2*a_2*a_3*cos(theta_3) + a_3**2, ((a_z*d_6 + d_1 - d_5*(n_z*sin(theta_6) + s_z*cos(theta_6)) - p_z)**2*cos(theta_1)**2 + (d_5*((2*n_x*cos(theta_1)**2 + n_y*sin(2*theta_1))*sin(theta_6) + (2*s_x*cos(theta_1)**2 + s_y*sin(2*theta_1))*cos(theta_6)) - d_6*(2*a_x*cos(theta_1)**2 + a_y*sin(2*theta_1)) + 2*p_x*cos(theta_1)**2 + p_y*sin(2*theta_1))**2/4)/cos(theta_1)**2)"
      ]
     },
     "execution_count": 38,
     "metadata": {},
     "output_type": "execute_result"
    }
   ],
   "source": [
    "eq910 = smp.Eq((eq9.lhs**2 + eq10.lhs**2).simplify(), (eq9.rhs**2 + eq10.rhs**2).simplify())\n",
    "eq910"
   ]
  },
  {
   "cell_type": "markdown",
   "metadata": {},
   "source": [
    "La expresión difiere de la que usamos para $\\theta_3$ antes. El miembro izquierdo es igual, en el derecho aparece una indeterminación con el ángulo $\\theta_1$ que antes no estaba. Además ahora los ángulos que necestiamos son $\\theta_5$ y $\\theta_6$ en vez de $\\theta_{234}$. $\\theta_1$ aparece en los 2 planteos.\n",
    "\n",
    "Si comparamos numéricamente el miembro derecho de este último planteo con el del anterior ($A^2 + B^2$) notamos diferencias. Quizás sea necesaria alguna sustitución para salvar la indeterminación de $\\theta_1$ y lograr que los 2 caminos conduzcan al mismo resultado."
   ]
  },
  {
   "cell_type": "code",
   "execution_count": 39,
   "metadata": {},
   "outputs": [],
   "source": [
    "prueba_a = eq910.rhs\n",
    "prueba_b = (A_sus**2 + B_sus**2).simplify()"
   ]
  },
  {
   "cell_type": "code",
   "execution_count": 40,
   "metadata": {},
   "outputs": [],
   "source": [
    "num_vals2 = {\n",
    "    n_x: 0.18, s_x: 0.91, a_x: 1.84, p_x: 28,\n",
    "    n_y: 0.37, s_y: 0.71, a_y: 1.27, p_y: 50,\n",
    "    n_z: 0.43, s_z: 0.08, a_z: 0.65, p_z: 14,\n",
    "    d_1: 173.9, a_2: 135, a_3: 120, d_4: 88.78, d_5: 95, d_6: 65.5,\n",
    "    theta_1 : np.pi/2, theta_6 : 0.5, theta_5 : 0.5, theta_2 : 0.5, theta_3 : 0.5, theta_4 : 0.5\n",
    "}"
   ]
  },
  {
   "cell_type": "code",
   "execution_count": 41,
   "metadata": {},
   "outputs": [
    {
     "data": {
      "text/latex": [
       "$\\displaystyle 32890.742492771$"
      ],
      "text/plain": [
       "32890.7424927710"
      ]
     },
     "execution_count": 41,
     "metadata": {},
     "output_type": "execute_result"
    }
   ],
   "source": [
    "prueba_a.subs(num_vals2).simplify()"
   ]
  },
  {
   "cell_type": "code",
   "execution_count": 42,
   "metadata": {},
   "outputs": [
    {
     "data": {
      "text/latex": [
       "$\\displaystyle 40991.4374354902$"
      ],
      "text/plain": [
       "40991.4374354902"
      ]
     },
     "execution_count": 42,
     "metadata": {},
     "output_type": "execute_result"
    }
   ],
   "source": [
    "prueba_b.subs(num_vals2).simplify()"
   ]
  },
  {
   "cell_type": "code",
   "execution_count": 43,
   "metadata": {},
   "outputs": [],
   "source": [
    "# pos_ini = np.array([np.pi/2, 0, 0, 0, 0, 0])\n",
    "# cobot.plot(q=pos_ini)"
   ]
  },
  {
   "cell_type": "code",
   "execution_count": 44,
   "metadata": {},
   "outputs": [],
   "source": [
    "# cobot.manipulability(q=pos_ini)"
   ]
  }
 ],
 "metadata": {
  "kernelspec": {
   "display_name": "base",
   "language": "python",
   "name": "python3"
  },
  "language_info": {
   "codemirror_mode": {
    "name": "ipython",
    "version": 3
   },
   "file_extension": ".py",
   "mimetype": "text/x-python",
   "name": "python",
   "nbconvert_exporter": "python",
   "pygments_lexer": "ipython3",
   "version": "3.10.9"
  }
 },
 "nbformat": 4,
 "nbformat_minor": 2
}
