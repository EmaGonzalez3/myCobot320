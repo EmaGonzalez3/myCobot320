{
 "cells": [
  {
   "cell_type": "code",
   "execution_count": 1,
   "metadata": {},
   "outputs": [],
   "source": [
    "import sympy as smp\n",
    "from sympy import symbols, Matrix, pprint\n",
    "\n",
    "def transform_eq75(T, w, v):\n",
    "    \"\"\"\n",
    "    Implementa la ecuación (75) del texto:\n",
    "      tau_{v_x} = n·((w x p) + v)\n",
    "      tau_{v_y} = o·((w x p) + v)\n",
    "      tau_{v_z} = a·((w x p) + v)\n",
    "      tau_{ω_x} = n·w\n",
    "      tau_{ω_y} = o·w\n",
    "      tau_{ω_z} = a·w\n",
    "\n",
    "    Parámetros:\n",
    "    -----------\n",
    "    T : Matrix 4x4 (Sympy) \n",
    "        Matriz de transformación homogénea del marco 'viejo' al 'nuevo'.\n",
    "    w : Matrix 3x1 (Sympy)\n",
    "        Velocidad angular en el marco anterior (o base).\n",
    "    v : Matrix 3x1 (Sympy)\n",
    "        Velocidad lineal en el marco anterior (o base).\n",
    "\n",
    "    Retorna:\n",
    "    --------\n",
    "    tau : Matrix 6x1 (Sympy)\n",
    "        [ tau_vx, tau_vy, tau_vz, tau_omega_x, tau_omega_y, tau_omega_z ]^T\n",
    "    \"\"\"\n",
    "    # Extraer ejes n, o, a y traslación p de T\n",
    "    n = T[0:3, 0]  # Primera columna (n_x, n_y, n_z)\n",
    "    o = T[0:3, 1]  # Segunda columna (o_x, o_y, o_z)\n",
    "    a = T[0:3, 2]  # Tercera columna (a_x, a_y, a_z)\n",
    "    p = T[0:3, 3]  # Cuarta columna (p_x, p_y, p_z)\n",
    "    # Calcular (w x p)\n",
    "    w_cross_p = w.cross(p)\n",
    "    # Ecuación (75): parte lineal\n",
    "    tau_vx = n.dot(w_cross_p + v)\n",
    "    tau_vy = o.dot(w_cross_p + v)\n",
    "    tau_vz = a.dot(w_cross_p + v)\n",
    "    # Ecuación (75): parte angular\n",
    "    tau_omega_x = n.dot(w)\n",
    "    tau_omega_y = o.dot(w)\n",
    "    tau_omega_z = a.dot(w)\n",
    "\n",
    "    # Armar el vector 6x1\n",
    "    tau = Matrix([\n",
    "        tau_vx,\n",
    "        tau_vy,\n",
    "        tau_vz,\n",
    "        tau_omega_x,\n",
    "        tau_omega_y,\n",
    "        tau_omega_z\n",
    "    ])\n",
    "\n",
    "    return tau\n",
    "\n",
    "def main():\n",
    "\n",
    "    \n",
    "    c6, s6, d6, c5, s5, d5, c4, s4, d4, s3, c3, s2, c2, s1, c1, d1, a2, a3 = symbols('c6 s6 d6 c5 s5 d5 c4 s4 d4 s3 c3 s2 c2 s1 c1 d1 a2 a3')\n",
    "    U521, U522 = symbols('U521 U522') \n",
    "    U411, U412, U413, U414, U421, U422, U423, U424, U431, U432, U433, U434 = symbols('U411 U412 U413 U414 U421 U422 U423 U424 U431 U432 U433 U434')\n",
    "    U311, U312, U313, U314, U321, U322, U323, U324, U331, U332, U333, U334 = symbols('U311 U312 U313 U314 U321 U322 U323 U324 U331 U332 U333 U334')\n",
    "    U211, U212, U213, U214, U221, U222, U223, U224, U231, U232, U233, U234 = symbols('U211 U212 U213 U214 U221 U222 U223 U224 U231 U232 U233 U234')\n",
    "    U111, U112, U113, U114, U121, U122, U123, U124, U131, U132, U133, U134 = symbols('U111 U112 U113 U114 U121 U122 U123 U124 U131 U132 U133 U134')\n",
    "\n",
    "    U6 = Matrix([\n",
    "        [c6,-s6,0,0],\n",
    "        [s6,c6,0,0],\n",
    "        [0,0,1,d6],\n",
    "        [0,0,0,1]\n",
    "    ])\n",
    "\n",
    "    U5 = Matrix([\n",
    "        [c5*s6,-c5*s6,-s5,-d6*s5],\n",
    "        [c6*s5,-s5*s6,c5,c5*d6],\n",
    "        [-s6,-c6,0,d5],\n",
    "        [0,0,0,1]\n",
    "    ])\n",
    "\n",
    "    \n",
    "    U4 = Matrix([\n",
    "        [U411,U412,s4*s5,U414],\n",
    "        [U421,U422,-c4*s5,U424],\n",
    "        [U521,U522,c5,U434],\n",
    "        [0,0,0,1]\n",
    "    ])\n",
    "\n",
    "    U3 = Matrix([\n",
    "        [U311,U312,U313,U314],\n",
    "        [U321,U322,U323,U324],\n",
    "        [U521,U522,c5,U434],\n",
    "        [0,0,0,1]\n",
    "    ])\n",
    "\n",
    "    U2 = Matrix([\n",
    "        [U211,U212,U213,U214],\n",
    "        [U221,U222,U223,U224],\n",
    "        [U521,U522,c5,U434],\n",
    "        [0,0,0,1]\n",
    "    ])\n",
    "\n",
    "    U1 = Matrix([\n",
    "        [U111,U112,U113,U114],\n",
    "        [U121,U122,U123,U124],\n",
    "        [-U221,-U222,U223,U134],\n",
    "        [0,0,0,1]\n",
    "    ])    \n",
    "\n",
    "    w1 = Matrix([0, -1, 0])\n",
    "    v1 = Matrix([0, 0, 0])\n",
    "    J1a6 = transform_eq75(U2, w1, v1)\n",
    "    \n",
    "    w2 = Matrix([0, 0, 0])\n",
    "    v2 = Matrix([0, a2, 0])\n",
    "    J2a6 = transform_eq75(U3, w2, v2)\n",
    "\n",
    "    w23 = Matrix([0, -1, 0])\n",
    "    v23 = Matrix([0, a3, 0])\n",
    "    J23a6 = transform_eq75(U4, w23, v23)\n",
    "    \n",
    "    w4 = Matrix([0, 1, 0])\n",
    "    v4 = Matrix([0, 0, 0])\n",
    "    J4a6 = transform_eq75(U5, w4, v4)    \n",
    "    \n",
    "    w5 = Matrix([0, -1, 0])\n",
    "    v5 = Matrix([0, 0, 0])\n",
    "    J5a6 = transform_eq75(U6, w5, v5)\n",
    "    \n",
    "    w6 = Matrix([0, 0, 1])\n",
    "    v6 = Matrix([0, 0, 0])\n",
    "    J6a6 = transform_eq75(Matrix.eye(4), w6, v6)\n",
    "    # print(J1a6)\n",
    "    # print(J2a6)\n",
    "    # print(J23a6)\n",
    "    # print(J4a6)\n",
    "    # print(J5a6)\n",
    "    # print(J6a6)\n",
    "\n",
    "    J = J1a6.row_join(J2a6).row_join(J23a6)\\\n",
    "              .row_join(J4a6).row_join(J5a6).row_join(J6a6)\n",
    "    return J"
   ]
  },
  {
   "cell_type": "code",
   "execution_count": 2,
   "metadata": {},
   "outputs": [
    {
     "data": {
      "text/latex": [
       "$\\displaystyle \\left[\\begin{matrix}- U_{211} U_{434} + U_{214} U_{521} & U_{321} a_{2} & - U_{411} U_{434} + U_{414} U_{521} + U_{421} a_{3} & c_{5} d_{5} s_{6} - d_{6} s_{5} s_{6} & - c_{6} d_{6} & 0\\\\- U_{212} U_{434} + U_{214} U_{522} & U_{322} a_{2} & - U_{412} U_{434} + U_{414} U_{522} + U_{422} a_{3} & - c_{5} d_{5} s_{6} - c_{6} d_{6} s_{5} & d_{6} s_{6} & 0\\\\- U_{213} U_{434} + U_{214} c_{5} & U_{323} a_{2} & U_{414} c_{5} - U_{434} s_{4} s_{5} - a_{3} c_{4} s_{5} & - d_{5} s_{5} & 0 & 0\\\\- U_{221} & 0 & - U_{421} & c_{6} s_{5} & - s_{6} & 0\\\\- U_{222} & 0 & - U_{422} & - s_{5} s_{6} & - c_{6} & 0\\\\- U_{223} & 0 & c_{4} s_{5} & c_{5} & 0 & 1\\end{matrix}\\right]$"
      ],
      "text/plain": [
       "Matrix([\n",
       "[-U211*U434 + U214*U521, U321*a2, -U411*U434 + U414*U521 + U421*a3,  c5*d5*s6 - d6*s5*s6, -c6*d6, 0],\n",
       "[-U212*U434 + U214*U522, U322*a2, -U412*U434 + U414*U522 + U422*a3, -c5*d5*s6 - c6*d6*s5,  d6*s6, 0],\n",
       "[  -U213*U434 + U214*c5, U323*a2,  U414*c5 - U434*s4*s5 - a3*c4*s5,               -d5*s5,      0, 0],\n",
       "[                 -U221,       0,                            -U421,                c6*s5,    -s6, 0],\n",
       "[                 -U222,       0,                            -U422,               -s5*s6,    -c6, 0],\n",
       "[                 -U223,       0,                            c4*s5,                   c5,      0, 1]])"
      ]
     },
     "execution_count": 2,
     "metadata": {},
     "output_type": "execute_result"
    }
   ],
   "source": [
    "main()"
   ]
  },
  {
   "cell_type": "code",
   "execution_count": 3,
   "metadata": {},
   "outputs": [
    {
     "data": {
      "text/latex": [
       "$\\displaystyle - c_{6}^{2} s_{5} - s_{5} s_{6}^{2}$"
      ],
      "text/plain": [
       "-c6**2*s5 - s5*s6**2"
      ]
     },
     "execution_count": 3,
     "metadata": {},
     "output_type": "execute_result"
    }
   ],
   "source": [
    "jacobiano = main()\n",
    "smp.det(jacobiano[3:, 3:])"
   ]
  },
  {
   "cell_type": "markdown",
   "metadata": {},
   "source": [
    "Está claro que $J_{12}$ y $J_{21}$ tienen determinante nulo. $J_{22}$ tiene como determinante la expresión que se ve arriba. El resto de las singularidades surgirá de ver $J_{11}$.\n",
    "\n",
    "# Preguntas\n",
    "\n",
    "Mirando esta expresión surge:\n",
    "\n",
    "- Qué son las U? \n",
    "\n",
    "- Estará el paper para replicar el cálculo? \n",
    "\n",
    "- Alguna idea para plantearlo yo y sacar la expresión analítica como hicimos con el IRB140? Si me armo una función para hacerlo, cómo puedo saber la terna y el punto en el que se calcula para comparar?"
   ]
  },
  {
   "cell_type": "markdown",
   "metadata": {},
   "source": [
    "# Jacobiano simbólico encontrado\n",
    "\n",
    "Este jacobiano corresponde a la respuesta de Pablo del viernes 21/02. No sabemos en qué terna está proyectado pero tenemos la expresión completa."
   ]
  },
  {
   "cell_type": "code",
   "execution_count": 4,
   "metadata": {},
   "outputs": [],
   "source": [
    "q1, q2, q3, q4, q5, q6 = smp.symbols('q1 q2 q3 q4 q5 q6')\n",
    "d1, d4, d5, d6, a2, a3 = smp.symbols('d1 d4 d5 d6 a2 a3')\n",
    "\n",
    "J = smp.Matrix([\n",
    "    [(d6*smp.cos(q2 + q3 - q5))/2 + d4*smp.cos(q2 + q3) + (d6*smp.cos(q2 + q3 + q5))/2,\n",
    "     d5*smp.cos(q4) + a2*smp.sin(q3) + d6*smp.sin(q4)*smp.sin(q5),\n",
    "     d5*smp.cos(q4) + d6*smp.sin(q4)*smp.sin(q5),\n",
    "     d5*smp.cos(q4) + d6*smp.sin(q4)*smp.sin(q5),\n",
    "     -d6*smp.cos(q4)*smp.cos(q5),\n",
    "     0],\n",
    "\n",
    "    [- (d6*smp.sin(q2 + q3 - q5))/2 - d4*smp.sin(q2 + q3) - (d6*smp.sin(q2 + q3 + q5))/2,\n",
    "     a3 + a2*smp.cos(q3) + d5*smp.sin(q4) - d6*smp.cos(q4)*smp.sin(q5),\n",
    "     a3 + d5*smp.sin(q4) - d6*smp.cos(q4)*smp.sin(q5),\n",
    "     d5*smp.sin(q4) - d6*smp.cos(q4)*smp.sin(q5),\n",
    "     -d6*smp.cos(q5)*smp.sin(q4),\n",
    "     0],\n",
    "\n",
    "    [(d6*smp.sin(q2 + q3 + q4 + q5))/2 - a3*smp.cos(q2 + q3) - a2*smp.cos(q2) - (d6*smp.sin(q2 + q3 + q4 - q5))/2 - d5*smp.sin(q2 + q3 + q4),\n",
    "     0,\n",
    "     0,\n",
    "     0,\n",
    "     -d6*smp.sin(q5),\n",
    "     0],\n",
    "\n",
    "    [smp.sin(q2 + q3 + q4),\n",
    "     0,\n",
    "     0,\n",
    "     0,\n",
    "     0,\n",
    "     -smp.sin(q5)],\n",
    "\n",
    "    [0,\n",
    "     1,\n",
    "     1,\n",
    "     1,\n",
    "     0,\n",
    "     smp.cos(q5)],\n",
    "\n",
    "    [-smp.cos(q2 + q3 + q4),\n",
    "     0,\n",
    "     0,\n",
    "     0,\n",
    "     1,\n",
    "     0]\n",
    "])\n"
   ]
  },
  {
   "cell_type": "code",
   "execution_count": 5,
   "metadata": {},
   "outputs": [
    {
     "data": {
      "text/latex": [
       "$\\displaystyle a_{2}^{2} a_{3} \\sin{\\left(q_{3} \\right)} \\sin{\\left(q_{5} \\right)} \\cos{\\left(q_{2} \\right)} + a_{2} a_{3}^{2} \\sin{\\left(q_{3} \\right)} \\sin{\\left(q_{5} \\right)} \\cos{\\left(q_{2} + q_{3} \\right)} + a_{2} a_{3} d_{5} \\sin{\\left(q_{3} \\right)} \\sin{\\left(q_{5} \\right)} \\sin{\\left(q_{2} + q_{3} + q_{4} \\right)} + a_{2} a_{3} d_{6} \\sin{\\left(q_{3} \\right)} \\sin^{2}{\\left(q_{5} \\right)} \\cos{\\left(q_{2} + q_{3} + q_{4} \\right)} + \\frac{a_{2} a_{3} d_{6} \\sin{\\left(q_{3} \\right)} \\sin{\\left(q_{5} \\right)} \\sin{\\left(q_{2} + q_{3} + q_{4} - q_{5} \\right)}}{2} - \\frac{a_{2} a_{3} d_{6} \\sin{\\left(q_{3} \\right)} \\sin{\\left(q_{5} \\right)} \\sin{\\left(q_{2} + q_{3} + q_{4} + q_{5} \\right)}}{2}$"
      ],
      "text/plain": [
       "a2**2*a3*sin(q3)*sin(q5)*cos(q2) + a2*a3**2*sin(q3)*sin(q5)*cos(q2 + q3) + a2*a3*d5*sin(q3)*sin(q5)*sin(q2 + q3 + q4) + a2*a3*d6*sin(q3)*sin(q5)**2*cos(q2 + q3 + q4) + a2*a3*d6*sin(q3)*sin(q5)*sin(q2 + q3 + q4 - q5)/2 - a2*a3*d6*sin(q3)*sin(q5)*sin(q2 + q3 + q4 + q5)/2"
      ]
     },
     "execution_count": 5,
     "metadata": {},
     "output_type": "execute_result"
    }
   ],
   "source": [
    "det_J =smp.det(J)\n",
    "det_J"
   ]
  },
  {
   "cell_type": "markdown",
   "metadata": {},
   "source": [
    "La expresión del determinante es bastante fea pero si se simplifica queda algo coherente."
   ]
  },
  {
   "cell_type": "code",
   "execution_count": 6,
   "metadata": {},
   "outputs": [
    {
     "data": {
      "text/latex": [
       "$\\displaystyle a_{2} a_{3} \\left(a_{2} \\cos{\\left(q_{2} \\right)} + a_{3} \\cos{\\left(q_{2} + q_{3} \\right)} + d_{5} \\sin{\\left(q_{2} + q_{3} + q_{4} \\right)}\\right) \\sin{\\left(q_{3} \\right)} \\sin{\\left(q_{5} \\right)}$"
      ],
      "text/plain": [
       "a2*a3*(a2*cos(q2) + a3*cos(q2 + q3) + d5*sin(q2 + q3 + q4))*sin(q3)*sin(q5)"
      ]
     },
     "execution_count": 6,
     "metadata": {},
     "output_type": "execute_result"
    }
   ],
   "source": [
    "det_J.simplify()"
   ]
  },
  {
   "cell_type": "markdown",
   "metadata": {},
   "source": [
    "Se ve que $q_3 = 0$ y $q_5 = 0$ son singularidades, tal y como habíamos notado en el problema inverso. Lo demás es una expresión de $q_2$, $q_3$ y $q_4$ que no es intuitiva pero corresponde a $\\mathrm{conf_1}$ como notamos al despejar $q_1$. Se trata entonces de la singularidad del hombro."
   ]
  },
  {
   "cell_type": "code",
   "execution_count": 7,
   "metadata": {},
   "outputs": [],
   "source": [
    "# sing234 = det_J.simplify()/(smp.sin(q3)*smp.sin(q5)*a2*a3)"
   ]
  },
  {
   "cell_type": "markdown",
   "metadata": {},
   "source": [
    "# Cálculo simbólico\n",
    "\n",
    "Planteamos el cálculo del jacobiano simbólico con las expresiones vistas en la teórica.\n",
    "\n",
    "Las matrices de rototraslación las tenemos del planteo de la cinemática directa. Solo resta elegir una terna para proyectar y un eje para el cálculo del jacobiano."
   ]
  },
  {
   "cell_type": "code",
   "execution_count": 8,
   "metadata": {},
   "outputs": [],
   "source": [
    "A10 = smp.Matrix([\n",
    "    [smp.cos(q1), 0, -smp.sin(q1), 0],\n",
    "    [smp.sin(q1), 0, smp.cos(q1), 0],\n",
    "    [0, -1, 0, d1],\n",
    "    [0, 0, 0, 1]])\n",
    "\n",
    "A21 = smp.Matrix([\n",
    "    [smp.cos(q2), -smp.sin(q2), 0, a2 * smp.cos(q2)],\n",
    "    [smp.sin(q2), smp.cos(q2), 0, a2 * smp.sin(q2)],\n",
    "    [0, 0, 1, 0],\n",
    "    [0, 0, 0, 1]\n",
    "])\n",
    "\n",
    "A32 = smp.Matrix([\n",
    "    [smp.cos(q3), -smp.sin(q3), 0, a3 * smp.cos(q3)],\n",
    "    [smp.sin(q3), smp.cos(q3), 0, a3 * smp.sin(q3)],\n",
    "    [0, 0, 1, 0],\n",
    "    [0, 0, 0, 1]\n",
    "])\n",
    "\n",
    "A43 = smp.Matrix([\n",
    "    [smp.cos(q4), 0, smp.sin(q4), 0],\n",
    "    [smp.sin(q4), 0, -smp.cos(q4), 0],\n",
    "    [0, 1, 0, d4],\n",
    "    [0, 0, 0, 1]\n",
    "])\n",
    "\n",
    "A54 = smp.Matrix([\n",
    "    [smp.cos(q5), 0, -smp.sin(q5), 0],\n",
    "    [smp.sin(q5), 0, smp.cos(q5), 0],\n",
    "    [0, -1, 0, d5],\n",
    "    [0, 0, 0, 1]\n",
    "])\n",
    "\n",
    "A65 = smp.Matrix([\n",
    "    [smp.cos(q6), -smp.sin(q6), 0, 0],\n",
    "    [smp.sin(q6), smp.cos(q6), 0, 0],\n",
    "    [0, 0, 1, d6],\n",
    "    [0, 0, 0, 1]\n",
    "])"
   ]
  },
  {
   "cell_type": "markdown",
   "metadata": {},
   "source": [
    "Vamos a probar calcular el jacobiano en la muñeca, proyectando en la terna 3. En este caso tenemos todas juntas de revolución y la expresión queda:\n",
    "\n",
    "$$\n",
    "J^{3} = \\left[ \\begin{array}{ccc}\n",
    "\\vec{p}_{05} \\times \\vec{x}_{3}^{0}|_{z} & \\vec{p}_{15} \\times \\vec{x}_{3}^{1}|_{z} & \\vec{p}_{25} \\times \\vec{x}_{3}^{2}|_{z} & \\vec{p}_{35} \\times \\vec{x}_{3}^{3}|_{z} & \\vec{p}_{45} \\times \\vec{x}_{3}^{4}|_{z} & \\vec{p}_{55} \\times \\vec{x}_{3}^{5}|_{z} \\\\\n",
    "\\vec{p}_{05} \\times \\vec{y}_{3}^{0}|_{z} & \\vec{p}_{15} \\times \\vec{y}_{3}^{1}|_{z} & \\vec{p}_{25} \\times \\vec{y}_{3}^{2}|_{z} & \\vec{p}_{35} \\times \\vec{y}_{3}^{3}|_{z} & \\vec{p}_{45} \\times \\vec{y}_{3}^{4}|_{z} & \\vec{p}_{55} \\times \\vec{y}_{3}^{5}|_{z}\\\\\n",
    "\\vec{p}_{05} \\times \\vec{z}_{3}^{0}|_{z} & \\vec{p}_{15} \\times \\vec{z}_{3}^{1}|_{z} & \\vec{p}_{25} \\times \\vec{z}_{3}^{2}|_{z} & \\vec{p}_{35} \\times \\vec{z}_{3}^{3}|_{z} & \\vec{p}_{45} \\times \\vec{z}_{3}^{4}|_{z} & \\vec{p}_{55} \\times \\vec{z}_{3}^{5}|_{z}\\\\\n",
    "\\vec{x}_{3}^{0}|_{z} & \\vec{x}_{3}^{1}|_{z} & \\vec{x}_{3}^{2}|_{z} & \\vec{x}_{3}^{3}|_{z} & \\vec{x}_{3}^{4}|_{z} & \\vec{x}_{3}^{5}|_{z} \\\\\n",
    "\\vec{y}_{3}^{0}|_{z} & \\vec{y}_{3}^{1}|_{z} & \\vec{y}_{3}^{2}|_{z} & \\vec{y}_{3}^{3}|_{z} & \\vec{y}_{3}^{4}|_{z} & \\vec{y}_{3}^{5}|_{z} \\\\\n",
    "\\vec{z}_{3}^{0}|_{z} & \\vec{z}_{3}^{1}|_{z} & \\vec{z}_{3}^{2}|_{z} & \\vec{z}_{3}^{3}|_{z} & \\vec{z}_{3}^{4}|_{z} & \\vec{z}_{3}^{5}|_{z}\n",
    "\\end{array} \\right]\n",
    "$$\n",
    "\n",
    "Es inmediato ver que $J^3_{12}$ tendrá determinante nulo. De esta manera, únicamente interesará calcular $\\det{(J^3_{11})}$ y $\\det{(J^3_{22})}$.\n",
    "\n",
    "Definimos las funciones que corresponden a los cálculos necesarios. La idea es poder cambiar la terna de proyección y el eje sobre el cual se calcula el jacobiano modificando `terna_proy` y `eje` respectivamente. En teoría, conocidas las matrices $A^i_j$ se podría aplicar para cualquier robot de 6 GL con todas juntas de revolución. Habría que adaptarlo para juntas prismáticas."
   ]
  },
  {
   "cell_type": "code",
   "execution_count": 9,
   "metadata": {},
   "outputs": [],
   "source": [
    "from functools import reduce\n",
    "\n",
    "matrices_a = [A10, A21, A32, A43, A54, A65]\n",
    "\n",
    "def antisim(vector):\n",
    "    \"\"\"\n",
    "    Devuelve la matriz antisimétrica asociada a un vector\n",
    "\n",
    "    Parameters\n",
    "    ----------\n",
    "    vector : vector (3x1) sobre el cual se calcula la matriz antisimétrica\n",
    "\n",
    "    Returns\n",
    "    -------\n",
    "    matriz_antisimetrica : matriz (3x3) antisimétrica asociada al vector\n",
    "    \"\"\"\n",
    "    px, py, pz = vector[0], vector[1], vector[2]\n",
    "    \n",
    "    matriz_antisimetrica = smp.Matrix([\n",
    "        [0, -pz, py],\n",
    "        [pz, 0, -px],\n",
    "        [-py, px, 0]\n",
    "    ])\n",
    "    \n",
    "    return matriz_antisimetrica\n",
    "\n",
    "def calcP (col_J, eje):\n",
    "    \"\"\"\n",
    "    Multiplica las matrices indexadas sucesivamente y devuelve las primeras 3 filas de la 4ta columna (vector p).\n",
    "\n",
    "    Parameters\n",
    "    ----------\n",
    "    col_J : índice de la columna del jacobiano cuyo vector de posición se busca calcular\n",
    "    eje : eje respecto al cual se calcula el jacobiano\n",
    "\n",
    "    Returns\n",
    "    -------\n",
    "    p : vector de posición desde la terna correspondiente a la columna hasta la del eje respecto al cual se calcula J\n",
    "    \"\"\"\n",
    "    # En el índice que corresponda con el punto donde se calcula J (en este caso la muñeca), p será nulo\n",
    "    if col_J == eje:\n",
    "        p = smp.zeros(1,3)\n",
    "    elif col_J > eje:\n",
    "        # Multiplica entre sí sucesivamente las matrices indexadas\n",
    "        p = reduce(lambda x, y: x * y, matrices_a[eje:col_J]).inv()[:3, 3]\n",
    "    else:\n",
    "        p = reduce(lambda x, y: x * y, matrices_a[col_J:eje])[:3, 3]\n",
    "    return p\n",
    "\n",
    "def calcCoord (col_J, terna_proy, coord):\n",
    "    \"\"\"\n",
    "    Calcula los cambios de coordenadas de cada eje en la terna sobre la cual se proyectan los elementos del jacobiano.\n",
    "\n",
    "    Parameters\n",
    "    ----------\n",
    "    col_J : índice de la columna del jacobiano cuyo vector de posición se busca calcular\n",
    "    terna_proy : eje en cuya terna se proyecta el jacobiano \n",
    "    coord : 0 = x, 1 = y, 2 = z\n",
    "\n",
    "    Returns\n",
    "    -------\n",
    "    Coordenada especificada proyectado en la terna de interés para el cálculo de J\n",
    "\n",
    "    \"\"\"\n",
    "    if col_J == terna_proy:\n",
    "        A = smp.eye(3)\n",
    "    elif col_J > terna_proy:\n",
    "        A = reduce(lambda x, y: x * y, matrices_a[terna_proy:col_J]).inv()[:3, :]\n",
    "    else:\n",
    "        A = reduce(lambda x, y: x * y, matrices_a[col_J:terna_proy])[:3, :]\n",
    "    return A[:, coord]"
   ]
  },
  {
   "cell_type": "markdown",
   "metadata": {},
   "source": [
    "Empezamos por $J_{11}$. Se podría armar un método que calcule todo el jacobiano directamente pero tarda mucho en correrse. De esta manera también se puede cambiar la terna y punto de cálculo para las distintas partes del jacobiano y facilitar el análisis"
   ]
  },
  {
   "cell_type": "code",
   "execution_count": 10,
   "metadata": {},
   "outputs": [
    {
     "data": {
      "text/latex": [
       "$\\displaystyle a_{2} a_{3} \\left(a_{2} \\cos{\\left(q_{2} \\right)} + a_{3} \\cos{\\left(q_{2} + q_{3} \\right)}\\right) \\sin{\\left(q_{3} \\right)}$"
      ],
      "text/plain": [
       "a2*a3*(a2*cos(q2) + a3*cos(q2 + q3))*sin(q3)"
      ]
     },
     "execution_count": 10,
     "metadata": {},
     "output_type": "execute_result"
    }
   ],
   "source": [
    "terna_proy = 5\n",
    "eje = 3\n",
    "J11 = smp.zeros(3)\n",
    "\n",
    "for i in range (3):\n",
    "    for j in range(3):\n",
    "        # Se calcula la antisimétrica del vector p para luego multiplicar por la coordenada\n",
    "        p_cross = antisim(calcP(j, eje))\n",
    "        J11[i, j] = p_cross[2, :]*(calcCoord(j, terna_proy, i))\n",
    "        # Tenía entendido que era equivalente a usar la antisimétrica pero los resultados no dicen lo mismo.\n",
    "        # J11[i, j] = calcP(j, eje).cross(calcCoord(j, terna_proy, i))[2] \n",
    "\n",
    "smp.det(J11).simplify()"
   ]
  },
  {
   "cell_type": "markdown",
   "metadata": {},
   "source": [
    "En $J_{11}$ ya vemos la singularidad del codo y una expresión parecida a la que vimos antes para el brazo. Nótese que le falta un término comparado con el jacobiano anterior."
   ]
  },
  {
   "cell_type": "code",
   "execution_count": 11,
   "metadata": {},
   "outputs": [
    {
     "data": {
      "text/latex": [
       "$\\displaystyle \\left[\\begin{matrix}0 & d_{4} \\cos{\\left(q_{5} \\right)} & - d_{5}\\\\0 & 0 & - \\frac{d_{4} \\sin{\\left(q_{5} \\right)}}{\\sin^{2}{\\left(q_{5} \\right)} + \\cos^{2}{\\left(q_{5} \\right)}}\\\\0 & - d_{4} \\sin{\\left(q_{5} \\right)} & 0\\end{matrix}\\right]$"
      ],
      "text/plain": [
       "Matrix([\n",
       "[0,  d4*cos(q5),                                   -d5],\n",
       "[0,           0, -d4*sin(q5)/(sin(q5)**2 + cos(q5)**2)],\n",
       "[0, -d4*sin(q5),                                     0]])"
      ]
     },
     "execution_count": 11,
     "metadata": {},
     "output_type": "execute_result"
    }
   ],
   "source": [
    "J12 = smp.zeros(3)\n",
    "\n",
    "for i in range (3):\n",
    "    for j in range(3):\n",
    "        p_cross = antisim(calcP(j+3, eje))\n",
    "        J12[i, j] = p_cross[2, :]*(calcCoord(j+3, terna_proy, i))\n",
    "        # J12[i, j] = calcP(j+3, eje).cross(calcCoord(j+3, terna_proy, i))[2]\n",
    "\n",
    "J12"
   ]
  },
  {
   "cell_type": "markdown",
   "metadata": {},
   "source": [
    "$J_{12}$ tendrá determinante nulo y no aporta a las singularidades. Igual que en el jacobiano que ya teníamos."
   ]
  },
  {
   "cell_type": "code",
   "execution_count": 12,
   "metadata": {},
   "outputs": [
    {
     "data": {
      "text/latex": [
       "$\\displaystyle \\left[\\begin{matrix}\\left(\\left(\\sin{\\left(q_{2} \\right)} \\sin{\\left(q_{3} \\right)} - \\cos{\\left(q_{2} \\right)} \\cos{\\left(q_{3} \\right)}\\right) \\sin{\\left(q_{4} \\right)} + \\left(- \\sin{\\left(q_{2} \\right)} \\cos{\\left(q_{3} \\right)} - \\sin{\\left(q_{3} \\right)} \\cos{\\left(q_{2} \\right)}\\right) \\cos{\\left(q_{4} \\right)}\\right) \\cos{\\left(q_{5} \\right)} & \\sin{\\left(q_{5} \\right)} & \\sin{\\left(q_{5} \\right)}\\\\\\left(\\sin{\\left(q_{2} \\right)} \\sin{\\left(q_{3} \\right)} - \\cos{\\left(q_{2} \\right)} \\cos{\\left(q_{3} \\right)}\\right) \\cos{\\left(q_{4} \\right)} - \\left(- \\sin{\\left(q_{2} \\right)} \\cos{\\left(q_{3} \\right)} - \\sin{\\left(q_{3} \\right)} \\cos{\\left(q_{2} \\right)}\\right) \\sin{\\left(q_{4} \\right)} & 0 & 0\\\\- \\left(\\left(\\sin{\\left(q_{2} \\right)} \\sin{\\left(q_{3} \\right)} - \\cos{\\left(q_{2} \\right)} \\cos{\\left(q_{3} \\right)}\\right) \\sin{\\left(q_{4} \\right)} + \\left(- \\sin{\\left(q_{2} \\right)} \\cos{\\left(q_{3} \\right)} - \\sin{\\left(q_{3} \\right)} \\cos{\\left(q_{2} \\right)}\\right) \\cos{\\left(q_{4} \\right)}\\right) \\sin{\\left(q_{5} \\right)} & \\cos{\\left(q_{5} \\right)} & \\cos{\\left(q_{5} \\right)}\\end{matrix}\\right]$"
      ],
      "text/plain": [
       "Matrix([\n",
       "[ ((sin(q2)*sin(q3) - cos(q2)*cos(q3))*sin(q4) + (-sin(q2)*cos(q3) - sin(q3)*cos(q2))*cos(q4))*cos(q5), sin(q5), sin(q5)],\n",
       "[           (sin(q2)*sin(q3) - cos(q2)*cos(q3))*cos(q4) - (-sin(q2)*cos(q3) - sin(q3)*cos(q2))*sin(q4),       0,       0],\n",
       "[-((sin(q2)*sin(q3) - cos(q2)*cos(q3))*sin(q4) + (-sin(q2)*cos(q3) - sin(q3)*cos(q2))*cos(q4))*sin(q5), cos(q5), cos(q5)]])"
      ]
     },
     "execution_count": 12,
     "metadata": {},
     "output_type": "execute_result"
    }
   ],
   "source": [
    "J21 = smp.zeros(3)\n",
    "\n",
    "for i in range (3):\n",
    "    for j in range(3):\n",
    "        J21[i, j] = calcCoord(j, terna_proy, i)[2]\n",
    "\n",
    "J21"
   ]
  },
  {
   "cell_type": "markdown",
   "metadata": {},
   "source": [
    "$J_{21}$ es anecdótico para nuestro análisis, lo cual es bueno viendo cómo queda su expresión."
   ]
  },
  {
   "cell_type": "code",
   "execution_count": 13,
   "metadata": {},
   "outputs": [
    {
     "data": {
      "text/latex": [
       "$\\displaystyle \\left[\\begin{matrix}\\sin{\\left(q_{5} \\right)} & 0 & 0\\\\0 & -1 & 0\\\\\\cos{\\left(q_{5} \\right)} & 0 & 1\\end{matrix}\\right]$"
      ],
      "text/plain": [
       "Matrix([\n",
       "[sin(q5),  0, 0],\n",
       "[      0, -1, 0],\n",
       "[cos(q5),  0, 1]])"
      ]
     },
     "execution_count": 13,
     "metadata": {},
     "output_type": "execute_result"
    }
   ],
   "source": [
    "J22 = smp.zeros(3)\n",
    "\n",
    "for i in range (3):\n",
    "    for j in range(3):\n",
    "        J22[i, j] = calcCoord(j+3, terna_proy, i)[2]\n",
    "\n",
    "J22"
   ]
  },
  {
   "cell_type": "markdown",
   "metadata": {},
   "source": [
    "$J_{22}$ tiene una expresión sencilla. Este determinante sí nos va a interesar porque se va a multiplicar por $J_{11}$ para completar el del jacobiano."
   ]
  },
  {
   "cell_type": "code",
   "execution_count": 14,
   "metadata": {},
   "outputs": [
    {
     "data": {
      "text/latex": [
       "$\\displaystyle - \\sin{\\left(q_{5} \\right)}$"
      ],
      "text/plain": [
       "-sin(q5)"
      ]
     },
     "execution_count": 14,
     "metadata": {},
     "output_type": "execute_result"
    }
   ],
   "source": [
    "smp.det(J22).simplify()"
   ]
  },
  {
   "cell_type": "markdown",
   "metadata": {},
   "source": [
    "La expresión es la singularidad que nos faltaba: la de la muñeca. Esto corresponde al otro jacobiano y es coherente con lo visto en el PCI."
   ]
  },
  {
   "cell_type": "code",
   "execution_count": 15,
   "metadata": {},
   "outputs": [
    {
     "data": {
      "text/latex": [
       "$\\displaystyle - a_{2} a_{3} \\left(a_{2} \\cos{\\left(q_{2} \\right)} + a_{3} \\cos{\\left(q_{2} + q_{3} \\right)}\\right) \\sin{\\left(q_{3} \\right)} \\sin{\\left(q_{5} \\right)}$"
      ],
      "text/plain": [
       "-a2*a3*(a2*cos(q2) + a3*cos(q2 + q3))*sin(q3)*sin(q5)"
      ]
     },
     "execution_count": 15,
     "metadata": {},
     "output_type": "execute_result"
    }
   ],
   "source": [
    "(smp.det(J11)*smp.det(J22)).simplify()"
   ]
  },
  {
   "cell_type": "markdown",
   "metadata": {},
   "source": [
    "Multiplicando los determinantes tenemos algo muy parecido al del jacobiano previo, solo falta el término $d_5 \\, \\sin {(q_2 ​+ q_3 ​+ q_4​)}$ dentro del paréntesis."
   ]
  },
  {
   "cell_type": "code",
   "execution_count": 16,
   "metadata": {},
   "outputs": [],
   "source": [
    "# x33 = smp.eye(3)[:3, 0][2]\n",
    "# y33 = smp.eye(3)[:3, 1][2]\n",
    "# z33 = smp.eye(3)[:3, 2][2]\n",
    "\n",
    "# x43 = (A43.inv())[:3, 0][2]\n",
    "# y43 = (A43.inv())[:3, 1][2]\n",
    "# z43 = (A43.inv())[:3, 2][2]\n",
    "\n",
    "# x53 = ((A43*A54).inv())[:3, 0][2]\n",
    "# y53 = ((A43*A54).inv())[:3, 1][2]\n",
    "# z53 = ((A43*A54).inv())[:3, 2][2]\n",
    "\n",
    "# J22 = smp.Matrix([\n",
    "#     [x33, x43, x53],\n",
    "#     [y33, y43, y53],\n",
    "#     [z33, z43, z53]\n",
    "# ])\n",
    "# J22"
   ]
  }
 ],
 "metadata": {
  "kernelspec": {
   "display_name": "base",
   "language": "python",
   "name": "python3"
  },
  "language_info": {
   "codemirror_mode": {
    "name": "ipython",
    "version": 3
   },
   "file_extension": ".py",
   "mimetype": "text/x-python",
   "name": "python",
   "nbconvert_exporter": "python",
   "pygments_lexer": "ipython3",
   "version": "3.10.9"
  }
 },
 "nbformat": 4,
 "nbformat_minor": 2
}
